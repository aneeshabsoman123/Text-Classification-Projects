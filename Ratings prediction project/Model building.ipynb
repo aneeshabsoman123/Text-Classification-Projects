{
 "cells": [
  {
   "cell_type": "code",
   "execution_count": 1,
   "id": "26c10376",
   "metadata": {},
   "outputs": [
    {
     "name": "stderr",
     "output_type": "stream",
     "text": [
      "Could not find conda environment: tf2.4\n",
      "You can list all discoverable environments with `conda info --envs`.\n",
      "\n"
     ]
    }
   ],
   "source": [
    "!activate tf2.4"
   ]
  },
  {
   "cell_type": "code",
   "execution_count": 2,
   "id": "936f3dbd",
   "metadata": {},
   "outputs": [
    {
     "name": "stdout",
     "output_type": "stream",
     "text": [
      "Requirement already satisfied: ipykernel in c:\\users\\anish\\anaconda3\\lib\\site-packages (5.3.4)\n",
      "Note: you may need to restart the kernel to use updated packages.\n"
     ]
    },
    {
     "name": "stderr",
     "output_type": "stream",
     "text": [
      "ERROR: Could not find a version that satisfies the requirement tf2.4\n",
      "ERROR: No matching distribution found for tf2.4\n"
     ]
    }
   ],
   "source": [
    "pip install --user ipykernel tf2.4"
   ]
  },
  {
   "cell_type": "markdown",
   "id": "fe9e9c89",
   "metadata": {},
   "source": [
    "!pip install tensorflow --upgrade\n",
    "!pip install collections\n",
    "!pip install nltk\n",
    "!pip install matplotlib\n",
    "!pip install wordcloud\n",
    "!pip install PIL\n",
    "import sys\n",
    "!{sys.executable} -m pip install spacy\n",
    "!{sys.executable} -m spacy download en\n",
    "!pip install sklearn\n",
    "!pip install keras\n",
    "!pip install pyspellchecker\n",
    "!pip install xgboost\n",
    "!pip3 install textblob\n",
    "!pip install pyLDAvis\n",
    "!pip install gensim\n",
    "!pip install IPython\n",
    "import nltk\n",
    "nltk.download('all')\n",
    "!pip install seaborn\n",
    "!pip install h5py==2.9"
   ]
  },
  {
   "cell_type": "code",
   "execution_count": 3,
   "id": "b2ea3472",
   "metadata": {},
   "outputs": [],
   "source": [
    "\n",
    "import pandas as pd\n",
    "import numpy as np\n",
    "from collections import defaultdict\n",
    "from collections import Counter\n",
    "import csv\n",
    "import matplotlib.pyplot as plt\n",
    "from wordcloud import WordCloud\n",
    "import nltk\n",
    "from nltk.corpus import stopwords\n",
    "from nltk import FreqDist"
   ]
  },
  {
   "cell_type": "code",
   "execution_count": 4,
   "id": "a585d407",
   "metadata": {},
   "outputs": [
    {
     "ename": "ModuleNotFoundError",
     "evalue": "No module named 'pyLDAvis'",
     "output_type": "error",
     "traceback": [
      "\u001b[1;31m---------------------------------------------------------------------------\u001b[0m",
      "\u001b[1;31mModuleNotFoundError\u001b[0m                       Traceback (most recent call last)",
      "\u001b[1;32m<ipython-input-4-f4099b50a58c>\u001b[0m in \u001b[0;36m<module>\u001b[1;34m\u001b[0m\n\u001b[0;32m     90\u001b[0m \u001b[1;33m\u001b[0m\u001b[0m\n\u001b[0;32m     91\u001b[0m \u001b[1;33m\u001b[0m\u001b[0m\n\u001b[1;32m---> 92\u001b[1;33m \u001b[1;32mimport\u001b[0m \u001b[0mpyLDAvis\u001b[0m\u001b[1;33m\u001b[0m\u001b[1;33m\u001b[0m\u001b[0m\n\u001b[0m\u001b[0;32m     93\u001b[0m \u001b[1;32mimport\u001b[0m \u001b[0mpyLDAvis\u001b[0m\u001b[1;33m.\u001b[0m\u001b[0mgensim_models\u001b[0m \u001b[1;32mas\u001b[0m \u001b[0mgensim\u001b[0m\u001b[1;33m\u001b[0m\u001b[1;33m\u001b[0m\u001b[0m\n\u001b[0;32m     94\u001b[0m \u001b[1;33m\u001b[0m\u001b[0m\n",
      "\u001b[1;31mModuleNotFoundError\u001b[0m: No module named 'pyLDAvis'"
     ]
    }
   ],
   "source": [
    "\n",
    "\n",
    "import string\n",
    "import nltk\n",
    "from nltk.corpus import stopwords\n",
    "from nltk import FreqDist\n",
    "\n",
    "import matplotlib.pyplot as plt\n",
    "\n",
    "from nltk.sentiment.vader import SentimentIntensityAnalyzer\n",
    "from nltk.stem import WordNetLemmatizer\n",
    "from nltk.corpus import wordnet\n",
    "lemmatizer=nltk.stem.WordNetLemmatizer()\n",
    "wordnet.lemmatizer=WordNetLemmatizer()\n",
    "\n",
    "from nltk.tokenize import word_tokenize\n",
    "\n",
    "#Visualization libraries\n",
    "\n",
    "import seaborn as sns\n",
    "import matplotlib.pyplot as plt\n",
    "from wordcloud import WordCloud\n",
    "from PIL import Image\n",
    "\n",
    "\n",
    "\n",
    "#spell checker\n",
    "\n",
    "from spellchecker import SpellChecker\n",
    "\n",
    "#Modelling\n",
    "from sklearn.model_selection import cross_val_score\n",
    "from scipy.sparse import hstack\n",
    "from sklearn.feature_extraction.text import CountVectorizer,TfidfVectorizer\n",
    "from sklearn.metrics import accuracy_score\n",
    "from sklearn.model_selection import train_test_split\n",
    "from sklearn.metrics import confusion_matrix,classification_report\n",
    "\n",
    "#Importing all the model library\n",
    "\n",
    "from sklearn.tree import DecisionTreeClassifier\n",
    "from sklearn.neighbors import KNeighborsClassifier\n",
    "from sklearn.naive_bayes import MultinomialNB\n",
    "\n",
    "#Importing Boosting models\n",
    "from xgboost import XGBClassifier\n",
    "from sklearn.ensemble import RandomForestClassifier\n",
    "from sklearn.ensemble import AdaBoostClassifier\n",
    "from sklearn.ensemble import GradientBoostingClassifier\n",
    "from sklearn.ensemble import BaggingClassifier\n",
    "from sklearn.ensemble import ExtraTreesClassifier\n",
    "\n",
    "#Importing error metrics\n",
    "from sklearn.metrics import classification_report,confusion_matrix,accuracy_score,roc_curve,auc\n",
    "from sklearn.model_selection import GridSearchCV,cross_val_score\n",
    "\n",
    "from sklearn.model_selection import KFold,cross_val_score\n",
    "from sklearn.decomposition import TruncatedSVD\n",
    "from sklearn.decomposition import NMF\n",
    "from sklearn.metrics.pairwise import cosine_similarity\n",
    "\n",
    "#xgboost\n",
    "import xgboost as xgb\n",
    "\n",
    "from tensorflow.python import keras\n",
    "from keras.preprocessing.text import Tokenizer\n",
    "from keras.preprocessing.sequence import pad_sequences\n",
    "\n",
    "from keras.models import Sequential\n",
    "from keras.layers import Dense,Embedding,LSTM\n",
    "from keras.utils.np_utils import to_categorical\n",
    "from keras.callbacks import ModelCheckpoint\n",
    "from keras.models import load_model\n",
    "from tensorflow.keras.optimizers import Adam\n",
    "\n",
    "#to change date to datetime\n",
    "from datetime import datetime\n",
    "import time\n",
    "import re\n",
    "\n",
    "import string\n",
    "import scipy.sparse\n",
    "\n",
    "#Textblob\n",
    "\n",
    "from textblob import TextBlob\n",
    "\n",
    "#Gensim\n",
    "\n",
    "from gensim import corpora,models,similarities,matutils\n",
    "from gensim.models.ldamulticore import LdaMulticore\n",
    "\n",
    "\n",
    "import pyLDAvis\n",
    "import pyLDAvis.gensim_models as gensim\n",
    "\n",
    "pyLDAvis.enable_notebook()\n",
    "\n",
    "from gensim.models import CoherenceModel\n",
    "\n",
    "#to pickle dataframe\n",
    "import pickle\n",
    "\n",
    "#show all the columns\n",
    "pd.set_option('display.max_columns',200)\n",
    "pd.set_option('display.max_colwidth',300)\n",
    "\n",
    "\n",
    "#enable logging for gensim-optional but important\n",
    "#import logging\n",
    "#logging.basicConfid(format='%(asctime)s: %(levelname)s : %(message)s',level=logging.ERROR)\n",
    "\n",
    "from IPython.display import clear_output\n",
    "clear_output\n",
    "\n",
    "#nltk.download('vader_lexicon')\n",
    "import warnings\n",
    "warnings.filterwarnings('ignore')"
   ]
  },
  {
   "cell_type": "code",
   "execution_count": 5,
   "id": "0dfba787",
   "metadata": {},
   "outputs": [
    {
     "name": "stdout",
     "output_type": "stream",
     "text": [
      "Collecting pyLDavis\n",
      "  Downloading pyLDAvis-3.3.1.tar.gz (1.7 MB)\n",
      "  Installing build dependencies: started\n",
      "  Installing build dependencies: finished with status 'done'\n",
      "  Getting requirements to build wheel: started\n",
      "  Getting requirements to build wheel: finished with status 'done'\n",
      "  Installing backend dependencies: started\n",
      "  Installing backend dependencies: finished with status 'done'\n",
      "    Preparing wheel metadata: started\n",
      "    Preparing wheel metadata: finished with status 'done'\n",
      "Collecting numpy>=1.20.0\n",
      "  Downloading numpy-1.21.4-cp38-cp38-win_amd64.whl (14.0 MB)\n",
      "Collecting funcy\n",
      "  Downloading funcy-1.16-py2.py3-none-any.whl (32 kB)\n",
      "Requirement already satisfied: numexpr in c:\\users\\anish\\anaconda3\\lib\\site-packages (from pyLDavis) (2.7.3)\n",
      "Requirement already satisfied: gensim in c:\\users\\anish\\anaconda3\\lib\\site-packages (from pyLDavis) (4.1.2)\n",
      "Requirement already satisfied: setuptools in c:\\users\\anish\\anaconda3\\lib\\site-packages (from pyLDavis) (49.1.3)\n",
      "Requirement already satisfied: scipy in c:\\users\\anish\\anaconda3\\lib\\site-packages (from pyLDavis) (1.6.2)\n",
      "Requirement already satisfied: future in c:\\users\\anish\\anaconda3\\lib\\site-packages (from pyLDavis) (0.18.2)\n",
      "Requirement already satisfied: scikit-learn in c:\\users\\anish\\anaconda3\\lib\\site-packages (from pyLDavis) (0.24.1)\n",
      "Requirement already satisfied: pandas>=1.2.0 in c:\\users\\anish\\anaconda3\\lib\\site-packages (from pyLDavis) (1.2.4)\n",
      "Requirement already satisfied: jinja2 in c:\\users\\anish\\anaconda3\\lib\\site-packages (from pyLDavis) (2.11.3)\n",
      "Requirement already satisfied: joblib in c:\\users\\anish\\anaconda3\\lib\\site-packages (from pyLDavis) (1.0.1)\n",
      "Collecting sklearn\n",
      "  Downloading sklearn-0.0.tar.gz (1.1 kB)\n",
      "Requirement already satisfied: pytz>=2017.3 in c:\\users\\anish\\anaconda3\\lib\\site-packages (from pandas>=1.2.0->pyLDavis) (2021.1)\n",
      "Requirement already satisfied: python-dateutil>=2.7.3 in c:\\users\\anish\\anaconda3\\lib\\site-packages (from pandas>=1.2.0->pyLDavis) (2.8.1)\n",
      "Requirement already satisfied: six>=1.5 in c:\\users\\anish\\anaconda3\\lib\\site-packages (from python-dateutil>=2.7.3->pandas>=1.2.0->pyLDavis) (1.15.0)\n",
      "Requirement already satisfied: Cython==0.29.23 in c:\\users\\anish\\anaconda3\\lib\\site-packages (from gensim->pyLDavis) (0.29.23)\n",
      "Requirement already satisfied: smart-open>=1.8.1 in c:\\users\\anish\\anaconda3\\lib\\site-packages (from gensim->pyLDavis) (5.2.1)\n",
      "Requirement already satisfied: MarkupSafe>=0.23 in c:\\users\\anish\\anaconda3\\lib\\site-packages (from jinja2->pyLDavis) (1.1.1)\n",
      "Requirement already satisfied: threadpoolctl>=2.0.0 in c:\\users\\anish\\anaconda3\\lib\\site-packages (from scikit-learn->pyLDavis) (2.1.0)\n",
      "Building wheels for collected packages: pyLDavis, sklearn\n",
      "  Building wheel for pyLDavis (PEP 517): started\n",
      "  Building wheel for pyLDavis (PEP 517): finished with status 'done'\n",
      "  Created wheel for pyLDavis: filename=pyLDAvis-3.3.1-py2.py3-none-any.whl size=136897 sha256=47469825179d0420358663c9894e7067abe7301536bf346c24a9862ce2fa9004\n",
      "  Stored in directory: c:\\users\\anish\\appdata\\local\\pip\\cache\\wheels\\90\\61\\ec\\9dbe9efc3acf9c4e37ba70fbbcc3f3a0ebd121060aa593181a\n",
      "  Building wheel for sklearn (setup.py): started\n",
      "  Building wheel for sklearn (setup.py): finished with status 'done'\n",
      "  Created wheel for sklearn: filename=sklearn-0.0-py2.py3-none-any.whl size=1316 sha256=bae6b86aee3bedeb93445fab9dc067d0b5ee5094e7e3021231975e48b9d5ffd3\n",
      "  Stored in directory: c:\\users\\anish\\appdata\\local\\pip\\cache\\wheels\\22\\0b\\40\\fd3f795caaa1fb4c6cb738bc1f56100be1e57da95849bfc897\n",
      "Successfully built pyLDavis sklearn\n",
      "Installing collected packages: numpy, sklearn, funcy, pyLDavis\n",
      "  Attempting uninstall: numpy\n",
      "    Found existing installation: numpy 1.19.5\n",
      "    Uninstalling numpy-1.19.5:\n",
      "      Successfully uninstalled numpy-1.19.5\n",
      "Note: you may need to restart the kernel to use updated packages.\n"
     ]
    },
    {
     "name": "stderr",
     "output_type": "stream",
     "text": [
      "ERROR: Could not install packages due to an OSError: [WinError 5] Access is denied: 'C:\\\\Users\\\\anish\\\\anaconda3\\\\Lib\\\\site-packages\\\\~umpy\\\\.libs\\\\libopenblas.WCDJNK7YVMPZQ2ME2ZZHJJRJ3JIKNDB7.gfortran-win_amd64.dll'\n",
      "Consider using the `--user` option or check the permissions.\n",
      "\n"
     ]
    }
   ],
   "source": [
    "pip install pyLDavis"
   ]
  },
  {
   "cell_type": "code",
   "execution_count": null,
   "id": "926d7260",
   "metadata": {},
   "outputs": [],
   "source": [
    "import tensorflow as tf"
   ]
  },
  {
   "cell_type": "code",
   "execution_count": null,
   "id": "dfa6b456",
   "metadata": {},
   "outputs": [],
   "source": [
    "import tensorflow.compat.v1 as tf\n",
    "tf.disable_v2_behavior()"
   ]
  },
  {
   "cell_type": "code",
   "execution_count": null,
   "id": "f21ac591",
   "metadata": {},
   "outputs": [],
   "source": [
    "import sys\n",
    "!{sys.executable} -m pip install spacy\n",
    "!{sys.executable} -m spacy download en\n",
    "\n",
    "#spacy for preprocessing\n",
    "import spacy \n",
    "from spacy.lang.en.stop_words import STOP_WORDS\n",
    "nlp=spacy.load('en_core_web_sm')"
   ]
  },
  {
   "cell_type": "code",
   "execution_count": null,
   "id": "eb898502",
   "metadata": {},
   "outputs": [],
   "source": [
    "df=pd.read_csv('Reviews.csv')\n",
    "df.head(2)"
   ]
  },
  {
   "cell_type": "markdown",
   "id": "8c7eeb96",
   "metadata": {},
   "source": [
    "# understanding the data"
   ]
  },
  {
   "cell_type": "code",
   "execution_count": null,
   "id": "72fd33dd",
   "metadata": {},
   "outputs": [],
   "source": [
    "df.shape"
   ]
  },
  {
   "cell_type": "markdown",
   "id": "cf05c007",
   "metadata": {},
   "source": [
    "There are 35,267 rows and 4 columns in the dataset"
   ]
  },
  {
   "cell_type": "code",
   "execution_count": null,
   "id": "6b86de06",
   "metadata": {},
   "outputs": [],
   "source": [
    "print(df.columns)"
   ]
  },
  {
   "cell_type": "markdown",
   "id": "f76e0b5b",
   "metadata": {},
   "source": [
    "Columns present are Unamed,Ratings, Full/-review and Object"
   ]
  },
  {
   "cell_type": "code",
   "execution_count": null,
   "id": "e7382d29",
   "metadata": {},
   "outputs": [],
   "source": [
    "df.dtypes"
   ]
  },
  {
   "cell_type": "markdown",
   "id": "dff521eb",
   "metadata": {},
   "source": [
    "2 columns have integer datas and 2 columns have string datas"
   ]
  },
  {
   "cell_type": "code",
   "execution_count": null,
   "id": "41a5fdaf",
   "metadata": {},
   "outputs": [],
   "source": [
    "df.info()"
   ]
  },
  {
   "cell_type": "markdown",
   "id": "f8d11595",
   "metadata": {},
   "source": [
    "There are no null values present in the data"
   ]
  },
  {
   "cell_type": "markdown",
   "id": "c03d84c9",
   "metadata": {},
   "source": [
    "# Feature engineering"
   ]
  },
  {
   "cell_type": "code",
   "execution_count": null,
   "id": "3e51293e",
   "metadata": {},
   "outputs": [],
   "source": [
    "#removing unwanted column-unnamed\n",
    "df.drop('Unnamed: 0', axis =1, inplace = True)"
   ]
  },
  {
   "cell_type": "code",
   "execution_count": null,
   "id": "28f71c66",
   "metadata": {},
   "outputs": [],
   "source": [
    "def generate_countplot(x):\n",
    "    plt.figure(figsize=(10,5))\n",
    "    sns.countplot(x)\n",
    "    plt.xticks(rotation=90)\n",
    "    plt.tight_layout()\n",
    "    return plt.show()\n",
    "\n",
    "generate_countplot(df['Ratings'])"
   ]
  },
  {
   "cell_type": "markdown",
   "id": "7f4602b2",
   "metadata": {},
   "source": [
    "The data is unbalanced dataset"
   ]
  },
  {
   "cell_type": "code",
   "execution_count": null,
   "id": "c1fae2a2",
   "metadata": {},
   "outputs": [],
   "source": [
    "#analysing length of reviews\n",
    "df['length']=df.Full_review.str.len()\n",
    "df.head()"
   ]
  },
  {
   "cell_type": "markdown",
   "id": "de351bbe",
   "metadata": {},
   "source": [
    "The length of the full review with respect to each rating"
   ]
  },
  {
   "cell_type": "code",
   "execution_count": null,
   "id": "793afd93",
   "metadata": {},
   "outputs": [],
   "source": [
    "import seaborn as sns\n",
    "plt.figure(figsize=(8,4))\n",
    "sns.lineplot(x='Ratings', y='length', data=df, ci=None)"
   ]
  },
  {
   "cell_type": "markdown",
   "id": "d571c435",
   "metadata": {},
   "source": [
    "Length of reviews is highest for a rating of 4 and lowers for higher or lower than 4"
   ]
  },
  {
   "cell_type": "markdown",
   "id": "f132cd4f",
   "metadata": {},
   "source": [
    "**Data Preprocessing**"
   ]
  },
  {
   "cell_type": "code",
   "execution_count": null,
   "id": "f92565dc",
   "metadata": {},
   "outputs": [],
   "source": [
    "df['Full_review']=df['Full_review'].str.replace(r'^.+@[^\\.].*\\.[a-z]{2,}$', 'emailaddress')\n",
    "df['Full_review']=df['Full_review'].str.replace(r'^http\\://[a-zA-Z0-9\\-\\.]+\\.[a-zA-Z]{2,3}(/\\S*)?$', 'webaddress')\n",
    "df['Full_review']=df['Full_review'].str.replace(r'£|\\$', 'dollers')\n",
    "df['Full_review']=df['Full_review'].str.replace(r'^\\(?[\\d]{3}\\)?[\\s-]?[\\d]{3}[\\s-]?[\\d]{4}$', 'phonenumber')\n",
    "df['Full_review']=df['Full_review'].str.replace(r'\\d+(\\.\\d+)?', 'numbr')\n",
    "df['Full_review']=df['Full_review'].str.replace(r'[^\\w\\d\\s]', ' ')\n",
    "df['Full_review']=df['Full_review'].str.replace(r'\\s+', ' ')\n",
    "df['Full_review']=df['Full_review'].str.replace(r'^\\s+|\\s+?$', '')"
   ]
  },
  {
   "cell_type": "code",
   "execution_count": null,
   "id": "1c05171c",
   "metadata": {},
   "outputs": [],
   "source": [
    "df"
   ]
  },
  {
   "cell_type": "code",
   "execution_count": null,
   "id": "4cba46e6",
   "metadata": {},
   "outputs": [],
   "source": [
    "#remove stopwords\n",
    "stop=set(stopwords.words('english')+ ['u', 'ur', '4', '2', 'im', 'dont', 'doin', 'ure'])\n",
    "df['Full_review']=df['Full_review'].apply(lambda x: ' '.join([word for word in x.split() if word not in (stop)]))\n",
    "\n",
    "#Lemmatisation\n",
    "def nltk_tag_to_wordnet_tag(nltk_tag):\n",
    "    if nltk_tag.startswith('J'):\n",
    "        return wordnet.ADJ\n",
    "    elif nltk_tag.startswith('V'):\n",
    "        return wordnet.VERB\n",
    "    elif nltk_tag.startswith('V'):\n",
    "        return wordnet.VERB\n",
    "    elif nltk_tag.startswith('N'):\n",
    "        return wordnet.NOUN\n",
    "    elif nltk_tag.startswith('R'):\n",
    "        return wordnet.ADV\n",
    "    else:\n",
    "        return None\n",
    "     \n",
    "#adding POS tags with lemmatization\n",
    "def lemmatize_sentence(sentence):\n",
    "    #tokenize the sentence and find the POS tag for each token\n",
    "    nltk_tagged=nltk.pos_tag(nltk.word_tokenize(sentence))\n",
    "    \n",
    "    #tuple of (token,wordnet_tag)\n",
    "    wordnet_tagged=map(lambda x:(x[0],nltk_tag_to_wordnet_tag(x[1])),nltk_tagged)\n",
    "    \n",
    "    lemmatized_sentence=[]\n",
    "    for word,tag in wordnet_tagged:\n",
    "        if tag is None:\n",
    "            #if no available tag,append the token as is\n",
    "            lemmatized_sentence.append(word)\n",
    "        else:\n",
    "            #else use the tag to lemmatize the token\n",
    "            lemmatized_sentence.append(lemmatizer.lemmatize(word,tag))\n",
    "    return \" \".join(lemmatized_sentence)\n",
    "\n",
    "df['Full_review']=df['Full_review'].apply(lambda x:lemmatize_sentence(x))"
   ]
  },
  {
   "cell_type": "code",
   "execution_count": null,
   "id": "26aaac6e",
   "metadata": {
    "scrolled": true
   },
   "outputs": [],
   "source": [
    "df['Full_review'][:2]"
   ]
  },
  {
   "cell_type": "code",
   "execution_count": null,
   "id": "048344d1",
   "metadata": {},
   "outputs": [],
   "source": [
    "a=df"
   ]
  },
  {
   "cell_type": "code",
   "execution_count": null,
   "id": "79659442",
   "metadata": {},
   "outputs": [],
   "source": [
    "df.to_csv('updated_reviews')"
   ]
  },
  {
   "cell_type": "markdown",
   "id": "66e0f68b",
   "metadata": {},
   "source": [
    "# EDA"
   ]
  },
  {
   "cell_type": "code",
   "execution_count": null,
   "id": "33ae6920",
   "metadata": {},
   "outputs": [],
   "source": [
    "#1.word count\n",
    "\n",
    "#splitting the words as per spaces \n",
    "#length of the string of split based on spaces-will give list of all the terms\n",
    "df[\"Review_WC\"]=df['Full_review'].apply(lambda x:len(str(x).split(\" \")))\n",
    "print(df[[\"Review_WC\",'Full_review']].head(3))\n",
    "\n",
    "\n",
    "\n",
    "#Density plot and histogram of all word count\n",
    "sns.distplot(df['Review_WC'],hist=True,kde=True,\n",
    "              bins=int(180/5),color='darkblue',\n",
    "              hist_kws={'edgecolor':'black'},\n",
    "              kde_kws={'linewidth':4})"
   ]
  },
  {
   "cell_type": "code",
   "execution_count": null,
   "id": "03bc51ff",
   "metadata": {},
   "outputs": [],
   "source": [
    "df.head(5)"
   ]
  },
  {
   "cell_type": "code",
   "execution_count": null,
   "id": "17866883",
   "metadata": {},
   "outputs": [],
   "source": [
    "#2.Charachter count-COUNT OF EACH LETTER IN A SENTENCE\n",
    "\n",
    "df['Review_CC']=df['Full_review'].str.len()\n",
    "print(df[['Review_CC','Full_review']].head(3))\n",
    "\n",
    "#Density plot and histogram of all charachter count\n",
    "sns.distplot(df['Review_CC'],hist=True,kde=True,\n",
    "              bins=int(180/5),color='darkblue',\n",
    "              hist_kws={'edgecolor':'black'},\n",
    "              kde_kws={'linewidth':4})"
   ]
  },
  {
   "cell_type": "code",
   "execution_count": null,
   "id": "e535a535",
   "metadata": {},
   "outputs": [],
   "source": [
    "#3.Average word length\n",
    "\n",
    "def avg_word(sentence):\n",
    "    words=sentence.split()\n",
    "    return(sum(len(word) for word in words)/len(words))\n",
    "\n",
    "df['Review_AWL']=df['Full_review'].apply(lambda x: avg_word(x))\n",
    "print(df[['Review_AWL','Full_review']].head(3))\n",
    "\n",
    "\n",
    "#Density plot and histogram of average word length\n",
    "sns.distplot(df['Review_AWL'],hist=True,kde=True,\n",
    "              bins=int(180/5),color='darkblue',\n",
    "              hist_kws={'edgecolor':'black'},\n",
    "              kde_kws={'linewidth':4})"
   ]
  },
  {
   "cell_type": "code",
   "execution_count": null,
   "id": "578a679f",
   "metadata": {},
   "outputs": [],
   "source": [
    "df.head(5)"
   ]
  },
  {
   "cell_type": "code",
   "execution_count": null,
   "id": "9f4f34f5",
   "metadata": {},
   "outputs": [],
   "source": [
    "#4.Frequency distribution of top 30words\n",
    "\n",
    "\n",
    "#creating \n",
    "def freq_words(x,terms=30):\n",
    "    all_words=' '.join([text for text in x])\n",
    "    all_words=all_words.split()\n",
    "    \n",
    "    fdist=FreqDist(all_words)\n",
    "    words_df=pd.DataFrame({'word':list(fdist.keys()),'count':list(fdist.values())})\n",
    "    \n",
    "    #selecting top 20 frequent words\n",
    "    d=words_df.nlargest(columns='count',n=terms)\n",
    "    plt.figure(figsize=(20,10))\n",
    "    ax=sns.barplot(data=d,x='count',y='word')\n",
    "    ax.set(ylabel='Word')\n",
    "    plt.show()\n",
    "    \n",
    "\n",
    "print(freq_words(df['Full_review']))"
   ]
  },
  {
   "cell_type": "code",
   "execution_count": null,
   "id": "5d229132",
   "metadata": {},
   "outputs": [],
   "source": [
    "#top 30 rarest words\n",
    "\n",
    "def freq_words(x,terms=30):\n",
    "    all_words=' '.join([text for text in x])\n",
    "    all_words=all_words.split()\n",
    "    \n",
    "    fdist=FreqDist(all_words)  \n",
    "    words_df=pd.DataFrame({'word':list(fdist.keys()),'count':list(fdist.values())})\n",
    "    \n",
    "    #selecting top 20 frequent words\n",
    "    d=words_df.nsmallest(columns='count',n=terms)   #same as frequest other than the nsmallest\n",
    "    plt.figure(figsize=(20,10))\n",
    "    ax=sns.barplot(data=d,x='count',y='word')\n",
    "    ax.set(ylabel='Word')\n",
    "    plt.show()\n",
    "    \n",
    "\n",
    "print(freq_words(df['Full_review']))"
   ]
  },
  {
   "cell_type": "markdown",
   "id": "f43738ef",
   "metadata": {},
   "source": [
    "# Feature extraction"
   ]
  },
  {
   "cell_type": "code",
   "execution_count": null,
   "id": "9c6c50ce",
   "metadata": {},
   "outputs": [],
   "source": [
    "#TF-Term frequency\n",
    "df_tf=(df['Full_review'][0:1].apply(lambda x: pd.value_counts(x.split(\" \")))).sum(axis=0).reset_index()\n",
    "df_tf.columns=['words','tf']\n",
    "\n",
    "\n",
    "#IDF-inverse document frequency\n",
    "for i,word in enumerate(df_tf['words']):\n",
    "    df_tf.loc[i,'idf']=np.log(df_tf.shape[0]/len(df[df['Full_review'].str.contains(word)]))\n",
    "    \n",
    "#tf-idf\n",
    "df_tf['tfidf']=df_tf['tf']*df_tf['idf']\n",
    "df_tf[:2]"
   ]
  },
  {
   "cell_type": "markdown",
   "id": "ee3726bf",
   "metadata": {},
   "source": [
    "Converted textual data into numerical form"
   ]
  },
  {
   "cell_type": "code",
   "execution_count": null,
   "id": "6f5223d3",
   "metadata": {},
   "outputs": [],
   "source": [
    "#Objects whose reviews are taken\n",
    "print(df[\"Object\"].nunique())\n",
    "df['Object'].value_counts().sort_values().plot(kind='barh')"
   ]
  },
  {
   "cell_type": "markdown",
   "id": "f162cfc3",
   "metadata": {},
   "source": [
    "The highest reviews are of smart watch and printers"
   ]
  },
  {
   "cell_type": "code",
   "execution_count": null,
   "id": "80d85fe7",
   "metadata": {},
   "outputs": [],
   "source": [
    "sns.countplot(y=df['Object'],hue=df['Ratings'])"
   ]
  },
  {
   "cell_type": "markdown",
   "id": "4e4a61b3",
   "metadata": {},
   "source": [
    "the graph shows the ratings of various Objects in Flipkart"
   ]
  },
  {
   "cell_type": "markdown",
   "id": "76b6ac5c",
   "metadata": {},
   "source": [
    "# Wordcloud"
   ]
  },
  {
   "cell_type": "code",
   "execution_count": null,
   "id": "943b869b",
   "metadata": {},
   "outputs": [],
   "source": [
    "from wordcloud import WordCloud, STOPWORDS \n",
    "stopwords= set(STOPWORDS) \n",
    "\n",
    "def show_wordcloud(data, title =None): \n",
    "    wordcloud = WordCloud(background_color='white',\n",
    "                          stopwords=stopwords,\n",
    "                          max_words=300,\n",
    "                          max_font_size=40,\n",
    "                          scale=3, random_state=1).generate(str(data))\n",
    "                                                                                                                                        \n",
    "    fig= plt.figure(1,figsize=(15,15)) \n",
    "    plt.axis('off')\n",
    "    if title:\n",
    "        fig.suptitle(title,fontsize=20)\n",
    "        fig.subplots_adjust(top=2.3)\n",
    "        \n",
    "    plt.imshow(wordcloud)\n",
    "    plt.show()"
   ]
  },
  {
   "cell_type": "code",
   "execution_count": null,
   "id": "c7922fa7",
   "metadata": {},
   "outputs": [],
   "source": [
    "#creating wordcloud \n",
    "print(\"Word cloud for *Review*:\")\n",
    "print(show_wordcloud(df['Full_review']))\n",
    "print(\"\\n\\n\\n\")"
   ]
  },
  {
   "cell_type": "markdown",
   "id": "1e981e19",
   "metadata": {},
   "source": [
    "The most used words in the review is seen to be laptop,product,good,number,window and product. This can be seen with the size of the word cloud"
   ]
  },
  {
   "cell_type": "code",
   "execution_count": null,
   "id": "594a21d6",
   "metadata": {},
   "outputs": [],
   "source": [
    "    print(\"RATING\",1)\n",
    "    Rating=df['Full_review'][df['Ratings']==1]\n",
    "    spam_cloud = WordCloud(width=700,height=500,background_color='white',max_words=20).generate(' '.join(Rating))\n",
    "    plt.figure(figsize=(10,8),facecolor='r')\n",
    "    plt.imshow(spam_cloud)\n",
    "    plt.axis('off')\n",
    "    plt.tight_layout(pad=0)\n",
    "    plt.show()"
   ]
  },
  {
   "cell_type": "code",
   "execution_count": null,
   "id": "29e5f40d",
   "metadata": {},
   "outputs": [],
   "source": [
    "    print(\"RATING\",2)\n",
    "    Rating=df['Full_review'][df['Ratings']==2]\n",
    "    spam_cloud = WordCloud(width=700,height=500,background_color='white',max_words=20).generate(' '.join(Rating))\n",
    "    plt.figure(figsize=(10,8),facecolor='r')\n",
    "    plt.imshow(spam_cloud)\n",
    "    plt.axis('off')\n",
    "    plt.tight_layout(pad=0)\n",
    "    plt.show()"
   ]
  },
  {
   "cell_type": "code",
   "execution_count": null,
   "id": "d13ca546",
   "metadata": {},
   "outputs": [],
   "source": [
    "    print(\"RATING\",3)\n",
    "    Rating=df['Full_review'][df['Ratings']==3]\n",
    "    spam_cloud = WordCloud(width=700,height=500,background_color='white',max_words=20).generate(' '.join(Rating))\n",
    "    plt.figure(figsize=(10,8),facecolor='r')\n",
    "    plt.imshow(spam_cloud)\n",
    "    plt.axis('off')\n",
    "    plt.tight_layout(pad=0)\n",
    "    plt.show()"
   ]
  },
  {
   "cell_type": "code",
   "execution_count": null,
   "id": "e5064bb0",
   "metadata": {},
   "outputs": [],
   "source": [
    "    print(\"RATING\",4)\n",
    "    Rating=df['Full_review'][df['Ratings']==4]\n",
    "    spam_cloud = WordCloud(width=700,height=500,background_color='white',max_words=20).generate(' '.join(Rating))\n",
    "    plt.figure(figsize=(10,8),facecolor='r')\n",
    "    plt.imshow(spam_cloud)\n",
    "    plt.axis('off')\n",
    "    plt.tight_layout(pad=0)\n",
    "    plt.show()"
   ]
  },
  {
   "cell_type": "code",
   "execution_count": null,
   "id": "edbb033d",
   "metadata": {},
   "outputs": [],
   "source": [
    "    print(\"RATING\",5)\n",
    "    Rating=df['Full_review'][df['Ratings']==5]\n",
    "    spam_cloud = WordCloud(width=700,height=500,background_color='white',max_words=20).generate(' '.join(Rating))\n",
    "    plt.figure(figsize=(10,8),facecolor='r')\n",
    "    plt.imshow(spam_cloud)\n",
    "    plt.axis('off')\n",
    "    plt.tight_layout(pad=0)\n",
    "    plt.show()"
   ]
  },
  {
   "cell_type": "code",
   "execution_count": null,
   "id": "dc11a3d3",
   "metadata": {},
   "outputs": [],
   "source": []
  },
  {
   "cell_type": "code",
   "execution_count": null,
   "id": "7489449b",
   "metadata": {},
   "outputs": [],
   "source": [
    "print(\"Word cloud for *Objects*:\")\n",
    "print(show_wordcloud(df['Object']))\n",
    "print(\"\\n\\n\\n\")"
   ]
  },
  {
   "cell_type": "markdown",
   "id": "a520d059",
   "metadata": {},
   "source": [
    "The most number of objects is laptop"
   ]
  },
  {
   "cell_type": "code",
   "execution_count": null,
   "id": "c75168d6",
   "metadata": {},
   "outputs": [],
   "source": [
    "f,ax = plt.subplots(1,2,figsize=(10,10))\n",
    "\n",
    "sns.distplot(df[df['Ratings']==1]['length'],bins=20,ax=ax[0],label='Rating 1 distribution',color='r')\n",
    "ax[0].set_xlabel('Rating 1 distribution')\n",
    "ax[0].legend()\n",
    "\n",
    "sns.distplot(df[df['Ratings']==2]['length'],bins=20,ax=ax[1],label='Rating 2 distribution',color='y')\n",
    "ax[1].set_xlabel('Rating 2 distribution')\n",
    "ax[1].legend()\n",
    "\n",
    "plt.show()"
   ]
  },
  {
   "cell_type": "code",
   "execution_count": null,
   "id": "a9f24e19",
   "metadata": {},
   "outputs": [],
   "source": [
    "f,ax = plt.subplots(1,2,figsize=(10,10))\n",
    "\n",
    "sns.distplot(df[df['Ratings']==3]['length'],bins=20,ax=ax[0],label='Rating 3 distribution',color='g')\n",
    "ax[0].set_xlabel('Rating 3 distribution')\n",
    "ax[0].legend()\n",
    "\n",
    "sns.distplot(df[df['Ratings']==4]['length'],bins=20,ax=ax[1],label='Rating 4 distribution',color='r')\n",
    "ax[1].set_xlabel('Rating 4 distribution')\n",
    "ax[1].legend()\n",
    "\n",
    "plt.show()"
   ]
  },
  {
   "cell_type": "code",
   "execution_count": null,
   "id": "03a57c18",
   "metadata": {},
   "outputs": [],
   "source": [
    "f,ax = plt.subplots(1,2,figsize=(10,10))\n",
    "\n",
    "sns.distplot(df[df['Ratings']==5]['length'],bins=20,ax=ax[0],label='Rating 5 distribution',color='r')\n",
    "ax[0].set_xlabel('Rating 1 distribution')\n",
    "ax[0].legend()\n",
    "\n",
    "plt.show()"
   ]
  },
  {
   "cell_type": "markdown",
   "id": "077d648b",
   "metadata": {},
   "source": [
    "# HEAT MAP"
   ]
  },
  {
   "cell_type": "code",
   "execution_count": null,
   "id": "693a1bc3",
   "metadata": {},
   "outputs": [],
   "source": [
    "plt.style.use('seaborn-pastel')\n",
    "upper_triangle = np.triu(df.corr())\n",
    "plt.figure(figsize=(10,7))\n",
    "sns.heatmap(df.corr(), vmin=-1, vmax=1, annot=True, square=True, fmt='0.3f', \n",
    "            annot_kws={'size':8}, cmap=\"rainbow_r\", mask=upper_triangle)\n",
    "plt.xticks(fontsize=10)\n",
    "plt.yticks(fontsize=10)\n",
    "plt.show()"
   ]
  },
  {
   "cell_type": "code",
   "execution_count": null,
   "id": "3c6d6f4a",
   "metadata": {},
   "outputs": [],
   "source": [
    "df"
   ]
  },
  {
   "cell_type": "code",
   "execution_count": null,
   "id": "6012e1ca",
   "metadata": {},
   "outputs": [],
   "source": [
    "df=a"
   ]
  },
  {
   "cell_type": "code",
   "execution_count": null,
   "id": "a78675f0",
   "metadata": {},
   "outputs": [],
   "source": [
    "df.head(2)"
   ]
  },
  {
   "cell_type": "code",
   "execution_count": null,
   "id": "dda1c2f4",
   "metadata": {},
   "outputs": [],
   "source": [
    "x=df['Full_review']\n",
    "y=df['Ratings']"
   ]
  },
  {
   "cell_type": "markdown",
   "id": "276e3860",
   "metadata": {},
   "source": [
    "# MODELLING"
   ]
  },
  {
   "cell_type": "code",
   "execution_count": null,
   "id": "69c08388",
   "metadata": {},
   "outputs": [],
   "source": [
    "#converting text to numerical through n-gram tfidf vectorizer\n",
    "from sklearn.feature_extraction.text import TfidfVectorizer\n",
    "\n",
    "\n",
    "word_vectorizer=TfidfVectorizer(sublinear_tf=True,\n",
    "                              strip_accents='unicode',\n",
    "                              analyzer='word',\n",
    "                              token_pattern=r'\\w{1,}',\n",
    "                              stop_words='english',\n",
    "                              ngram_range=(1,3))\n",
    "\n",
    "word_vectorizer.fit(x)\n",
    "train_word_features=word_vectorizer.transform(x)"
   ]
  },
  {
   "cell_type": "code",
   "execution_count": null,
   "id": "149c2bb3",
   "metadata": {},
   "outputs": [],
   "source": [
    "#vectorizing into charachter level\n",
    "char_vectorizer=TfidfVectorizer(sublinear_tf=True,\n",
    "                              strip_accents='unicode',\n",
    "                              analyzer='char',\n",
    "                              stop_words='english',\n",
    "                              ngram_range=(2,6),\n",
    "                               max_features=50000)\n",
    "\n",
    "char_vectorizer.fit(x)\n",
    "train_char_features=char_vectorizer.transform(x)"
   ]
  },
  {
   "cell_type": "code",
   "execution_count": null,
   "id": "7b2afc04",
   "metadata": {},
   "outputs": [],
   "source": [
    "#clubbing the word and the charachter vector\n",
    "from scipy.sparse import hstack\n",
    "train_features=hstack([train_char_features,train_word_features])"
   ]
  },
  {
   "cell_type": "markdown",
   "id": "fc63c907",
   "metadata": {},
   "source": [
    "Headstack is a library which will horizontally club the word and charachter matrix"
   ]
  },
  {
   "cell_type": "code",
   "execution_count": null,
   "id": "da3da8eb",
   "metadata": {},
   "outputs": [],
   "source": [
    "from sklearn.model_selection import train_test_split\n",
    "x_train, x_test, y_train, y_test = train_test_split(train_features, y, test_size=0.25, random_state=9)\n",
    "\n",
    "print(y_train.shape)\n",
    "print(y_test.shape)\n",
    "\n",
    "print(x_train.shape)\n",
    "print(x_test.shape)"
   ]
  },
  {
   "cell_type": "code",
   "execution_count": null,
   "id": "6013e95f",
   "metadata": {},
   "outputs": [],
   "source": [
    "!pip install imblearn\n",
    "from imblearn import under_sampling, over_sampling\n",
    "from imblearn.over_sampling import SMOTE"
   ]
  },
  {
   "cell_type": "code",
   "execution_count": null,
   "id": "01cf4a19",
   "metadata": {},
   "outputs": [],
   "source": [
    "#handling imbalanced data through smote technique\n",
    "\n",
    "from imblearn.over_sampling import SMOTE\n",
    "smt = SMOTE(random_state=0)\n",
    "oversample = SMOTE()\n",
    "x_train_SMOTE, y_train_SMOTE= oversample.fit_resample(x_train, y_train)\n",
    "\n",
    "print(\"The number of classes before fit{}\".format(Counter(y_train)))\n",
    "print(\"The number of classes after fit {}\".format(Counter(y_train_SMOTE)))"
   ]
  },
  {
   "cell_type": "code",
   "execution_count": null,
   "id": "1644c4a3",
   "metadata": {},
   "outputs": [],
   "source": [
    "y_train_SMOTE"
   ]
  },
  {
   "cell_type": "code",
   "execution_count": null,
   "id": "0a7cdbe8",
   "metadata": {},
   "outputs": [],
   "source": [
    "vvvvvvvvvvvvvvvvvvvvvvvvvvvvvvvvvvvvvvvvvvvvvvvvvvvvvvvvvvvvvvvvvvvvvvvvvvvvvvvvvvvvvvvvvvvvvvvvvvvvvvvvvvvvvvvvvvvvvvvvvvvvvvvvvvvvvvvvvvvvvvvvvvvvvvvvvvvvvvvvvvvvvvvvvvvvvvvvvvvvvvvvvvvvvvvvvvvvvvvvvvvvvvvvvvv"
   ]
  },
  {
   "cell_type": "code",
   "execution_count": null,
   "id": "31824082",
   "metadata": {},
   "outputs": [],
   "source": [
    "KNN=KNeighborsClassifier(n_neighbors=6)\n",
    "DT=DecisionTreeClassifier(random_state=6)\n",
    "XGB=XGBClassifier()\n",
    "RF=RandomForestClassifier()\n",
    "ADA=AdaBoostClassifier()\n",
    "MNB=MultinomialNB()\n",
    "GBC=GradientBoostingClassifier()\n",
    "BC=BaggingClassifier()\n",
    "ETC=ExtraTreesClassifier()\n",
    "\n",
    "models= []\n",
    "models.append(('KNeighborsClassifier', KNN))\n",
    "models.append(('DecisionTreeClassifier', DT))\n",
    "models.append(('XGBClassifier', XGB))\n",
    "models.append(('RandomForestClassifier', RF))\n",
    "models.append(('AdaBoostClassifier', ADA))\n",
    "models.append(('MultinomialNB', MNB))\n",
    "models.append(('GradientBoostingClassifier', GBC))\n",
    "models.append(('BaggingClassifier', BC))\n",
    "models.append(('ExtraTreesClassifier', ETC))"
   ]
  },
  {
   "cell_type": "code",
   "execution_count": null,
   "id": "849284fb",
   "metadata": {},
   "outputs": [],
   "source": [
    "import tensorflow as tf\n",
    "\n",
    "if tf.test.gpu_device_name():\n",
    "    print('Default GPU Device: {}'.format(tf.test.gpu_device_name()))\n",
    "else:\n",
    "    print(\"Please install GPU \")\n",
    "        "
   ]
  },
  {
   "cell_type": "code",
   "execution_count": 69,
   "id": "489cd956",
   "metadata": {},
   "outputs": [
    {
     "name": "stdout",
     "output_type": "stream",
     "text": [
      "Default GPU Device: /device:GPU:0\n",
      "****************************************** KNeighborsClassifier ********************************************************\n",
      "\n",
      "\n",
      "KNeighborsClassifier(n_neighbors=6)\n",
      "\n",
      "\n",
      "Accuracy_score =  0.40285811500510377\n",
      "\n",
      "\n",
      "Cross_Val_Score =  0.6772496416626852\n",
      "\n",
      "\n",
      "classification_report\n",
      "               precision    recall  f1-score   support\n",
      "\n",
      "           1       0.36      0.45      0.40      1217\n",
      "           2       0.09      0.38      0.14       272\n",
      "           3       0.15      0.51      0.23       669\n",
      "           4       0.46      0.43      0.45      1809\n",
      "           5       0.83      0.37      0.51      4850\n",
      "\n",
      "    accuracy                           0.40      8817\n",
      "   macro avg       0.38      0.43      0.35      8817\n",
      "weighted avg       0.61      0.40      0.45      8817\n",
      "\n",
      "\n",
      "\n",
      "[[ 551  163  281  127   95]\n",
      " [  43  104   64   31   30]\n",
      " [  93   80  341   89   66]\n",
      " [ 209  246  394  783  177]\n",
      " [ 616  611 1183  667 1773]]\n",
      "\n",
      "\n",
      "AxesSubplot(0.125,0.808774;0.62x0.0712264)\n",
      "\n",
      "\n",
      "\n",
      "****************************************** DecisionTreeClassifier ********************************************************\n",
      "\n",
      "\n",
      "DecisionTreeClassifier(random_state=6)\n",
      "\n",
      "\n",
      "Accuracy_score =  0.5459906997845072\n",
      "\n",
      "\n",
      "Cross_Val_Score =  0.6935144946958307\n",
      "\n",
      "\n",
      "classification_report\n",
      "               precision    recall  f1-score   support\n",
      "\n",
      "           1       0.40      0.43      0.41      1217\n",
      "           2       0.21      0.24      0.23       272\n",
      "           3       0.30      0.38      0.33       669\n",
      "           4       0.44      0.52      0.47      1809\n",
      "           5       0.72      0.63      0.67      4850\n",
      "\n",
      "    accuracy                           0.55      8817\n",
      "   macro avg       0.41      0.44      0.42      8817\n",
      "weighted avg       0.57      0.55      0.56      8817\n",
      "\n",
      "\n",
      "\n",
      "[[ 520   41   92  213  351]\n",
      " [  45   66   23   44   94]\n",
      " [  69   16  251  112  221]\n",
      " [ 170   63  124  940  512]\n",
      " [ 486  122  360  845 3037]]\n",
      "\n",
      "\n",
      "AxesSubplot(0.125,0.808774;0.62x0.0712264)\n",
      "\n",
      "\n",
      "\n",
      "****************************************** XGBClassifier ********************************************************\n",
      "\n",
      "\n"
     ]
    },
    {
     "name": "stderr",
     "output_type": "stream",
     "text": [
      "C:\\Users\\Vimal\\anaconda3\\envs\\tensorflow\\lib\\site-packages\\xgboost\\sklearn.py:1224: UserWarning: The use of label encoder in XGBClassifier is deprecated and will be removed in a future release. To remove this warning, do the following: 1) Pass option use_label_encoder=False when constructing XGBClassifier object; and 2) Encode your labels (y) as integers starting with 0, i.e. 0, 1, 2, ..., [num_class - 1].\n",
      "  warnings.warn(label_encoder_deprecation_msg, UserWarning)\n"
     ]
    },
    {
     "name": "stdout",
     "output_type": "stream",
     "text": [
      "[20:07:38] WARNING: C:/Users/Administrator/workspace/xgboost-win64_release_1.5.0/src/learner.cc:1115: Starting in XGBoost 1.3.0, the default evaluation metric used with the objective 'multi:softprob' was changed from 'merror' to 'mlogloss'. Explicitly set eval_metric if you'd like to restore the old behavior.\n",
      "XGBClassifier(base_score=0.5, booster='gbtree', colsample_bylevel=1,\n",
      "              colsample_bynode=1, colsample_bytree=1, enable_categorical=False,\n",
      "              gamma=0, gpu_id=-1, importance_type=None,\n",
      "              interaction_constraints='', learning_rate=0.300000012,\n",
      "              max_delta_step=0, max_depth=6, min_child_weight=1, missing=nan,\n",
      "              monotone_constraints='()', n_estimators=100, n_jobs=8,\n",
      "              num_parallel_tree=1, objective='multi:softprob', predictor='auto',\n",
      "              random_state=0, reg_alpha=0, reg_lambda=1, scale_pos_weight=None,\n",
      "              subsample=1, tree_method='exact', validate_parameters=1,\n",
      "              verbosity=None)\n",
      "\n",
      "\n",
      "Accuracy_score =  0.5850062379494159\n",
      "\n",
      "\n"
     ]
    },
    {
     "name": "stderr",
     "output_type": "stream",
     "text": [
      "C:\\Users\\Vimal\\anaconda3\\envs\\tensorflow\\lib\\site-packages\\xgboost\\sklearn.py:1224: UserWarning: The use of label encoder in XGBClassifier is deprecated and will be removed in a future release. To remove this warning, do the following: 1) Pass option use_label_encoder=False when constructing XGBClassifier object; and 2) Encode your labels (y) as integers starting with 0, i.e. 0, 1, 2, ..., [num_class - 1].\n",
      "  warnings.warn(label_encoder_deprecation_msg, UserWarning)\n"
     ]
    },
    {
     "name": "stdout",
     "output_type": "stream",
     "text": [
      "[20:15:52] WARNING: C:/Users/Administrator/workspace/xgboost-win64_release_1.5.0/src/learner.cc:1115: Starting in XGBoost 1.3.0, the default evaluation metric used with the objective 'multi:softprob' was changed from 'merror' to 'mlogloss'. Explicitly set eval_metric if you'd like to restore the old behavior.\n"
     ]
    },
    {
     "name": "stderr",
     "output_type": "stream",
     "text": [
      "C:\\Users\\Vimal\\anaconda3\\envs\\tensorflow\\lib\\site-packages\\xgboost\\sklearn.py:1224: UserWarning: The use of label encoder in XGBClassifier is deprecated and will be removed in a future release. To remove this warning, do the following: 1) Pass option use_label_encoder=False when constructing XGBClassifier object; and 2) Encode your labels (y) as integers starting with 0, i.e. 0, 1, 2, ..., [num_class - 1].\n",
      "  warnings.warn(label_encoder_deprecation_msg, UserWarning)\n"
     ]
    },
    {
     "name": "stdout",
     "output_type": "stream",
     "text": [
      "[20:23:32] WARNING: C:/Users/Administrator/workspace/xgboost-win64_release_1.5.0/src/learner.cc:1115: Starting in XGBoost 1.3.0, the default evaluation metric used with the objective 'multi:softprob' was changed from 'merror' to 'mlogloss'. Explicitly set eval_metric if you'd like to restore the old behavior.\n"
     ]
    },
    {
     "name": "stderr",
     "output_type": "stream",
     "text": [
      "C:\\Users\\Vimal\\anaconda3\\envs\\tensorflow\\lib\\site-packages\\xgboost\\sklearn.py:1224: UserWarning: The use of label encoder in XGBClassifier is deprecated and will be removed in a future release. To remove this warning, do the following: 1) Pass option use_label_encoder=False when constructing XGBClassifier object; and 2) Encode your labels (y) as integers starting with 0, i.e. 0, 1, 2, ..., [num_class - 1].\n",
      "  warnings.warn(label_encoder_deprecation_msg, UserWarning)\n"
     ]
    },
    {
     "name": "stdout",
     "output_type": "stream",
     "text": [
      "[20:31:03] WARNING: C:/Users/Administrator/workspace/xgboost-win64_release_1.5.0/src/learner.cc:1115: Starting in XGBoost 1.3.0, the default evaluation metric used with the objective 'multi:softprob' was changed from 'merror' to 'mlogloss'. Explicitly set eval_metric if you'd like to restore the old behavior.\n"
     ]
    },
    {
     "name": "stderr",
     "output_type": "stream",
     "text": [
      "C:\\Users\\Vimal\\anaconda3\\envs\\tensorflow\\lib\\site-packages\\xgboost\\sklearn.py:1224: UserWarning: The use of label encoder in XGBClassifier is deprecated and will be removed in a future release. To remove this warning, do the following: 1) Pass option use_label_encoder=False when constructing XGBClassifier object; and 2) Encode your labels (y) as integers starting with 0, i.e. 0, 1, 2, ..., [num_class - 1].\n",
      "  warnings.warn(label_encoder_deprecation_msg, UserWarning)\n"
     ]
    },
    {
     "name": "stdout",
     "output_type": "stream",
     "text": [
      "[20:38:30] WARNING: C:/Users/Administrator/workspace/xgboost-win64_release_1.5.0/src/learner.cc:1115: Starting in XGBoost 1.3.0, the default evaluation metric used with the objective 'multi:softprob' was changed from 'merror' to 'mlogloss'. Explicitly set eval_metric if you'd like to restore the old behavior.\n"
     ]
    },
    {
     "name": "stderr",
     "output_type": "stream",
     "text": [
      "C:\\Users\\Vimal\\anaconda3\\envs\\tensorflow\\lib\\site-packages\\xgboost\\sklearn.py:1224: UserWarning: The use of label encoder in XGBClassifier is deprecated and will be removed in a future release. To remove this warning, do the following: 1) Pass option use_label_encoder=False when constructing XGBClassifier object; and 2) Encode your labels (y) as integers starting with 0, i.e. 0, 1, 2, ..., [num_class - 1].\n",
      "  warnings.warn(label_encoder_deprecation_msg, UserWarning)\n"
     ]
    },
    {
     "name": "stdout",
     "output_type": "stream",
     "text": [
      "[20:46:04] WARNING: C:/Users/Administrator/workspace/xgboost-win64_release_1.5.0/src/learner.cc:1115: Starting in XGBoost 1.3.0, the default evaluation metric used with the objective 'multi:softprob' was changed from 'merror' to 'mlogloss'. Explicitly set eval_metric if you'd like to restore the old behavior.\n"
     ]
    },
    {
     "name": "stderr",
     "output_type": "stream",
     "text": [
      "C:\\Users\\Vimal\\anaconda3\\envs\\tensorflow\\lib\\site-packages\\xgboost\\sklearn.py:1224: UserWarning: The use of label encoder in XGBClassifier is deprecated and will be removed in a future release. To remove this warning, do the following: 1) Pass option use_label_encoder=False when constructing XGBClassifier object; and 2) Encode your labels (y) as integers starting with 0, i.e. 0, 1, 2, ..., [num_class - 1].\n",
      "  warnings.warn(label_encoder_deprecation_msg, UserWarning)\n"
     ]
    },
    {
     "name": "stdout",
     "output_type": "stream",
     "text": [
      "[20:53:30] WARNING: C:/Users/Administrator/workspace/xgboost-win64_release_1.5.0/src/learner.cc:1115: Starting in XGBoost 1.3.0, the default evaluation metric used with the objective 'multi:softprob' was changed from 'merror' to 'mlogloss'. Explicitly set eval_metric if you'd like to restore the old behavior.\n"
     ]
    },
    {
     "name": "stderr",
     "output_type": "stream",
     "text": [
      "C:\\Users\\Vimal\\anaconda3\\envs\\tensorflow\\lib\\site-packages\\xgboost\\sklearn.py:1224: UserWarning: The use of label encoder in XGBClassifier is deprecated and will be removed in a future release. To remove this warning, do the following: 1) Pass option use_label_encoder=False when constructing XGBClassifier object; and 2) Encode your labels (y) as integers starting with 0, i.e. 0, 1, 2, ..., [num_class - 1].\n",
      "  warnings.warn(label_encoder_deprecation_msg, UserWarning)\n"
     ]
    },
    {
     "name": "stdout",
     "output_type": "stream",
     "text": [
      "[21:00:54] WARNING: C:/Users/Administrator/workspace/xgboost-win64_release_1.5.0/src/learner.cc:1115: Starting in XGBoost 1.3.0, the default evaluation metric used with the objective 'multi:softprob' was changed from 'merror' to 'mlogloss'. Explicitly set eval_metric if you'd like to restore the old behavior.\n"
     ]
    },
    {
     "name": "stderr",
     "output_type": "stream",
     "text": [
      "C:\\Users\\Vimal\\anaconda3\\envs\\tensorflow\\lib\\site-packages\\xgboost\\sklearn.py:1224: UserWarning: The use of label encoder in XGBClassifier is deprecated and will be removed in a future release. To remove this warning, do the following: 1) Pass option use_label_encoder=False when constructing XGBClassifier object; and 2) Encode your labels (y) as integers starting with 0, i.e. 0, 1, 2, ..., [num_class - 1].\n",
      "  warnings.warn(label_encoder_deprecation_msg, UserWarning)\n"
     ]
    },
    {
     "name": "stdout",
     "output_type": "stream",
     "text": [
      "[21:08:23] WARNING: C:/Users/Administrator/workspace/xgboost-win64_release_1.5.0/src/learner.cc:1115: Starting in XGBoost 1.3.0, the default evaluation metric used with the objective 'multi:softprob' was changed from 'merror' to 'mlogloss'. Explicitly set eval_metric if you'd like to restore the old behavior.\n"
     ]
    },
    {
     "name": "stderr",
     "output_type": "stream",
     "text": [
      "C:\\Users\\Vimal\\anaconda3\\envs\\tensorflow\\lib\\site-packages\\xgboost\\sklearn.py:1224: UserWarning: The use of label encoder in XGBClassifier is deprecated and will be removed in a future release. To remove this warning, do the following: 1) Pass option use_label_encoder=False when constructing XGBClassifier object; and 2) Encode your labels (y) as integers starting with 0, i.e. 0, 1, 2, ..., [num_class - 1].\n",
      "  warnings.warn(label_encoder_deprecation_msg, UserWarning)\n"
     ]
    },
    {
     "name": "stdout",
     "output_type": "stream",
     "text": [
      "[21:15:49] WARNING: C:/Users/Administrator/workspace/xgboost-win64_release_1.5.0/src/learner.cc:1115: Starting in XGBoost 1.3.0, the default evaluation metric used with the objective 'multi:softprob' was changed from 'merror' to 'mlogloss'. Explicitly set eval_metric if you'd like to restore the old behavior.\n"
     ]
    },
    {
     "name": "stderr",
     "output_type": "stream",
     "text": [
      "C:\\Users\\Vimal\\anaconda3\\envs\\tensorflow\\lib\\site-packages\\xgboost\\sklearn.py:1224: UserWarning: The use of label encoder in XGBClassifier is deprecated and will be removed in a future release. To remove this warning, do the following: 1) Pass option use_label_encoder=False when constructing XGBClassifier object; and 2) Encode your labels (y) as integers starting with 0, i.e. 0, 1, 2, ..., [num_class - 1].\n",
      "  warnings.warn(label_encoder_deprecation_msg, UserWarning)\n"
     ]
    },
    {
     "name": "stdout",
     "output_type": "stream",
     "text": [
      "[21:23:12] WARNING: C:/Users/Administrator/workspace/xgboost-win64_release_1.5.0/src/learner.cc:1115: Starting in XGBoost 1.3.0, the default evaluation metric used with the objective 'multi:softprob' was changed from 'merror' to 'mlogloss'. Explicitly set eval_metric if you'd like to restore the old behavior.\n",
      "Cross_Val_Score =  0.7019051581151264\n",
      "\n",
      "\n",
      "classification_report\n",
      "               precision    recall  f1-score   support\n",
      "\n",
      "           1       0.46      0.39      0.42      1217\n",
      "           2       0.30      0.21      0.25       272\n",
      "           3       0.32      0.33      0.33       669\n",
      "           4       0.49      0.42      0.46      1809\n",
      "           5       0.68      0.75      0.71      4850\n",
      "\n",
      "    accuracy                           0.59      8817\n",
      "   macro avg       0.45      0.42      0.43      8817\n",
      "weighted avg       0.57      0.59      0.58      8817\n",
      "\n",
      "\n",
      "\n",
      "[[ 473   30   63  138  513]\n",
      " [  34   57   17   35  129]\n",
      " [  67   10  221   67  304]\n",
      " [ 127   32  104  764  782]\n",
      " [ 320   64  278  545 3643]]\n",
      "\n",
      "\n",
      "AxesSubplot(0.125,0.808774;0.62x0.0712264)\n",
      "\n",
      "\n",
      "\n",
      "****************************************** RandomForestClassifier ********************************************************\n",
      "\n",
      "\n",
      "RandomForestClassifier()\n",
      "\n",
      "\n",
      "Accuracy_score =  0.6050810933424067\n",
      "\n",
      "\n",
      "Cross_Val_Score =  0.7859261630910623\n",
      "\n",
      "\n",
      "classification_report\n",
      "               precision    recall  f1-score   support\n",
      "\n",
      "           1       0.52      0.38      0.44      1217\n",
      "           2       0.52      0.22      0.31       272\n",
      "           3       0.38      0.33      0.36       669\n",
      "           4       0.50      0.45      0.48      1809\n",
      "           5       0.67      0.78      0.72      4850\n",
      "\n",
      "    accuracy                           0.61      8817\n",
      "   macro avg       0.52      0.43      0.46      8817\n",
      "weighted avg       0.59      0.61      0.59      8817\n",
      "\n",
      "\n",
      "\n",
      "[[ 463    5   48  132  569]\n",
      " [  28   60   11   35  138]\n",
      " [  45    6  221   81  316]\n",
      " [  97   18   71  815  808]\n",
      " [ 266   27  224  557 3776]]\n",
      "\n",
      "\n",
      "AxesSubplot(0.125,0.808774;0.62x0.0712264)\n",
      "\n",
      "\n",
      "\n",
      "****************************************** AdaBoostClassifier ********************************************************\n",
      "\n",
      "\n",
      "AdaBoostClassifier()\n",
      "\n",
      "\n",
      "Accuracy_score =  0.4862198026539639\n",
      "\n",
      "\n",
      "Cross_Val_Score =  0.5090112143070786\n",
      "\n",
      "\n",
      "classification_report\n",
      "               precision    recall  f1-score   support\n",
      "\n",
      "           1       0.46      0.36      0.41      1217\n",
      "           2       0.07      0.38      0.12       272\n",
      "           3       0.21      0.36      0.26       669\n",
      "           4       0.61      0.36      0.45      1809\n",
      "           5       0.69      0.59      0.63      4850\n",
      "\n",
      "    accuracy                           0.49      8817\n",
      "   macro avg       0.41      0.41      0.38      8817\n",
      "weighted avg       0.58      0.49      0.52      8817\n",
      "\n",
      "\n",
      "\n",
      "[[ 444  209  128   56  380]\n",
      " [  28  104   31   18   91]\n",
      " [  54  106  243   28  238]\n",
      " [ 106  259  193  653  598]\n",
      " [ 338  772  584  313 2843]]\n",
      "\n",
      "\n",
      "AxesSubplot(0.125,0.808774;0.62x0.0712264)\n",
      "\n",
      "\n",
      "\n",
      "****************************************** MultinomialNB ********************************************************\n",
      "\n",
      "\n",
      "MultinomialNB()\n",
      "\n",
      "\n",
      "Accuracy_score =  0.5236474991493706\n",
      "\n",
      "\n",
      "Cross_Val_Score =  0.6076936847175448\n",
      "\n",
      "\n",
      "classification_report\n",
      "               precision    recall  f1-score   support\n",
      "\n",
      "           1       0.38      0.48      0.42      1217\n",
      "           2       0.08      0.35      0.14       272\n",
      "           3       0.37      0.33      0.35       669\n",
      "           4       0.53      0.39      0.45      1809\n",
      "           5       0.71      0.62      0.66      4850\n",
      "\n",
      "    accuracy                           0.52      8817\n",
      "   macro avg       0.41      0.43      0.40      8817\n",
      "weighted avg       0.58      0.52      0.55      8817\n",
      "\n",
      "\n",
      "\n",
      "[[ 580  163   51  100  323]\n",
      " [  51   95   14   26   86]\n",
      " [ 101   81  219   62  206]\n",
      " [ 205  222   85  708  589]\n",
      " [ 586  573  227  449 3015]]\n",
      "\n",
      "\n",
      "AxesSubplot(0.125,0.808774;0.62x0.0712264)\n",
      "\n",
      "\n",
      "\n",
      "****************************************** GradientBoostingClassifier ********************************************************\n",
      "\n",
      "\n",
      "GradientBoostingClassifier()\n",
      "\n",
      "\n",
      "Accuracy_score =  0.5799024611545878\n",
      "\n",
      "\n",
      "Cross_Val_Score =  0.602036595076892\n",
      "\n",
      "\n",
      "classification_report\n",
      "               precision    recall  f1-score   support\n",
      "\n",
      "           1       0.42      0.43      0.43      1217\n",
      "           2       0.12      0.27      0.16       272\n",
      "           3       0.42      0.31      0.36       669\n",
      "           4       0.63      0.36      0.46      1809\n",
      "           5       0.67      0.75      0.71      4850\n",
      "\n",
      "    accuracy                           0.58      8817\n",
      "   macro avg       0.45      0.43      0.42      8817\n",
      "weighted avg       0.59      0.58      0.58      8817\n",
      "\n",
      "\n",
      "\n",
      "[[ 523   85   35   57  517]\n",
      " [  43   74    9   23  123]\n",
      " [  81   42  207   30  309]\n",
      " [ 166  113   62  655  813]\n",
      " [ 425  316  180  275 3654]]\n",
      "\n",
      "\n",
      "AxesSubplot(0.125,0.808774;0.62x0.0712264)\n",
      "\n",
      "\n",
      "\n",
      "****************************************** BaggingClassifier ********************************************************\n",
      "\n",
      "\n",
      "BaggingClassifier()\n",
      "\n",
      "\n",
      "Accuracy_score =  0.5657253033911761\n",
      "\n",
      "\n",
      "Cross_Val_Score =  0.7318534060495885\n",
      "\n",
      "\n",
      "classification_report\n",
      "               precision    recall  f1-score   support\n",
      "\n",
      "           1       0.41      0.43      0.42      1217\n",
      "           2       0.26      0.24      0.25       272\n",
      "           3       0.32      0.35      0.34       669\n",
      "           4       0.46      0.49      0.48      1809\n",
      "           5       0.70      0.68      0.69      4850\n",
      "\n",
      "    accuracy                           0.57      8817\n",
      "   macro avg       0.43      0.44      0.43      8817\n",
      "weighted avg       0.57      0.57      0.57      8817\n",
      "\n",
      "\n",
      "\n",
      "[[ 519   30   78  178  412]\n",
      " [  39   64   17   40  112]\n",
      " [  78   11  235  105  240]\n",
      " [ 174   36   99  889  611]\n",
      " [ 446  101  302  720 3281]]\n",
      "\n",
      "\n",
      "AxesSubplot(0.125,0.808774;0.62x0.0712264)\n",
      "\n",
      "\n",
      "\n",
      "****************************************** ExtraTreesClassifier ********************************************************\n",
      "\n",
      "\n",
      "ExtraTreesClassifier()\n",
      "\n",
      "\n",
      "Accuracy_score =  0.6008846546444369\n",
      "\n",
      "\n",
      "Cross_Val_Score =  0.7937021430319414\n",
      "\n",
      "\n",
      "classification_report\n",
      "               precision    recall  f1-score   support\n",
      "\n",
      "           1       0.52      0.37      0.43      1217\n",
      "           2       0.45      0.22      0.30       272\n",
      "           3       0.37      0.33      0.35       669\n",
      "           4       0.51      0.46      0.48      1809\n",
      "           5       0.67      0.77      0.72      4850\n",
      "\n",
      "    accuracy                           0.60      8817\n",
      "   macro avg       0.50      0.43      0.46      8817\n",
      "weighted avg       0.59      0.60      0.59      8817\n",
      "\n",
      "\n",
      "\n",
      "[[ 451   11   56  127  572]\n",
      " [  28   61   13   32  138]\n",
      " [  43    6  223   72  325]\n",
      " [  85   21   71  825  807]\n",
      " [ 265   37  235  575 3738]]\n",
      "\n",
      "\n",
      "AxesSubplot(0.125,0.808774;0.62x0.0712264)\n",
      "\n",
      "\n",
      "\n"
     ]
    },
    {
     "data": {
      "image/png": "[encoded data removed]",
      "text/plain": [
       "<Figure size 720x2880 with 2 Axes>"
      ]
     },
     "metadata": {
      "needs_background": "light"
     },
     "output_type": "display_data"
    },
    {
     "data": {
      "image/png": "[encoded data removed]",
      "text/plain": [
       "<Figure size 720x2880 with 2 Axes>"
      ]
     },
     "metadata": {
      "needs_background": "light"
     },
     "output_type": "display_data"
    },
    {
     "data": {
      "image/png": "[encoded data removed]",
      "text/plain": [
       "<Figure size 720x2880 with 2 Axes>"
      ]
     },
     "metadata": {
      "needs_background": "light"
     },
     "output_type": "display_data"
    },
    {
     "data": {
      "image/png": "[encoded data removed]",
      "text/plain": [
       "<Figure size 720x2880 with 2 Axes>"
      ]
     },
     "metadata": {
      "needs_background": "light"
     },
     "output_type": "display_data"
    },
    {
     "data": {
      "image/png": "[encoded data removed]",
      "text/plain": [
       "<Figure size 720x2880 with 2 Axes>"
      ]
     },
     "metadata": {
      "needs_background": "light"
     },
     "output_type": "display_data"
    },
    {
     "data": {
      "image/png": "[encoded data removed]",
      "text/plain": [
       "<Figure size 720x2880 with 2 Axes>"
      ]
     },
     "metadata": {
      "needs_background": "light"
     },
     "output_type": "display_data"
    },
    {
     "data": {
      "image/png": "[encoded data removed]",
      "text/plain": [
       "<Figure size 720x2880 with 2 Axes>"
      ]
     },
     "metadata": {
      "needs_background": "light"
     },
     "output_type": "display_data"
    },
    {
     "data": {
      "image/png": "[encoded data removed]",
      "text/plain": [
       "<Figure size 720x2880 with 2 Axes>"
      ]
     },
     "metadata": {
      "needs_background": "light"
     },
     "output_type": "display_data"
    },
    {
     "data": {
      "image/png": "[encoded data removed]",
      "text/plain": [
       "<Figure size 720x2880 with 2 Axes>"
      ]
     },
     "metadata": {
      "needs_background": "light"
     },
     "output_type": "display_data"
    }
   ],
   "source": [
    "\n",
    "        \n",
    "Model= []\n",
    "score= []\n",
    "cvs=[]\n",
    "difference=[]\n",
    "for name,model in models:\n",
    "    print('******************************************',name,'********************************************************')\n",
    "    print('\\n')\n",
    "    Model.append(name)\n",
    "    model.fit(x_train_SMOTE,y_train_SMOTE)\n",
    "    print(model)\n",
    "    pre=model.predict(x_test)\n",
    "    print('\\n')\n",
    "    AS=accuracy_score(y_test,pre)\n",
    "    print('Accuracy_score = ',AS)\n",
    "    score.append(AS*100)\n",
    "    print('\\n')\n",
    "    sc= cross_val_score(model, x_train_SMOTE, y_train_SMOTE, cv=10, scoring='accuracy').mean()\n",
    "    print('Cross_Val_Score = ',sc)\n",
    "    cvs.append(sc*100)\n",
    "    print('\\n')\n",
    "    print('classification_report\\n',classification_report(y_test,pre))\n",
    "    print('\\n')\n",
    "    cm=confusion_matrix(y_test,pre)\n",
    "    print(cm)\n",
    "    print('\\n')\n",
    "    plt.figure(figsize=(10,40))\n",
    "    plt.subplot(911)\n",
    "    plt.title(name)\n",
    "    print(sns.heatmap(cm,annot=True))\n",
    "    print('\\n\\n')\n",
    "    diff=AS-sc\n",
    "    difference.append(diff)"
   ]
  },
  {
   "cell_type": "code",
   "execution_count": 78,
   "id": "f1a74e34",
   "metadata": {},
   "outputs": [
    {
     "data": {
      "text/html": [
       "<div>\n",
       "<style scoped>\n",
       "    .dataframe tbody tr th:only-of-type {\n",
       "        vertical-align: middle;\n",
       "    }\n",
       "\n",
       "    .dataframe tbody tr th {\n",
       "        vertical-align: top;\n",
       "    }\n",
       "\n",
       "    .dataframe thead th {\n",
       "        text-align: right;\n",
       "    }\n",
       "</style>\n",
       "<table border=\"1\" class=\"dataframe\">\n",
       "  <thead>\n",
       "    <tr style=\"text-align: right;\">\n",
       "      <th></th>\n",
       "      <th>Model</th>\n",
       "      <th>Accuracy_score</th>\n",
       "      <th>Cross_val_score</th>\n",
       "    </tr>\n",
       "  </thead>\n",
       "  <tbody>\n",
       "    <tr>\n",
       "      <th>0</th>\n",
       "      <td>KNeighborsClassifier</td>\n",
       "      <td>40.285812</td>\n",
       "      <td>67.724964</td>\n",
       "    </tr>\n",
       "    <tr>\n",
       "      <th>1</th>\n",
       "      <td>DecisionTreeClassifier</td>\n",
       "      <td>54.599070</td>\n",
       "      <td>69.351449</td>\n",
       "    </tr>\n",
       "    <tr>\n",
       "      <th>2</th>\n",
       "      <td>XGBClassifier</td>\n",
       "      <td>58.500624</td>\n",
       "      <td>70.190516</td>\n",
       "    </tr>\n",
       "    <tr>\n",
       "      <th>3</th>\n",
       "      <td>RandomForestClassifier</td>\n",
       "      <td>60.508109</td>\n",
       "      <td>78.592616</td>\n",
       "    </tr>\n",
       "    <tr>\n",
       "      <th>4</th>\n",
       "      <td>AdaBoostClassifier</td>\n",
       "      <td>48.621980</td>\n",
       "      <td>50.901121</td>\n",
       "    </tr>\n",
       "    <tr>\n",
       "      <th>5</th>\n",
       "      <td>MultinomialNB</td>\n",
       "      <td>52.364750</td>\n",
       "      <td>60.769368</td>\n",
       "    </tr>\n",
       "    <tr>\n",
       "      <th>6</th>\n",
       "      <td>GradientBoostingClassifier</td>\n",
       "      <td>57.990246</td>\n",
       "      <td>60.203660</td>\n",
       "    </tr>\n",
       "    <tr>\n",
       "      <th>7</th>\n",
       "      <td>BaggingClassifier</td>\n",
       "      <td>56.572530</td>\n",
       "      <td>73.185341</td>\n",
       "    </tr>\n",
       "    <tr>\n",
       "      <th>8</th>\n",
       "      <td>ExtraTreesClassifier</td>\n",
       "      <td>60.088465</td>\n",
       "      <td>79.370214</td>\n",
       "    </tr>\n",
       "  </tbody>\n",
       "</table>\n",
       "</div>"
      ],
      "text/plain": [
       "                        Model  Accuracy_score  Cross_val_score\n",
       "0        KNeighborsClassifier       40.285812        67.724964\n",
       "1      DecisionTreeClassifier       54.599070        69.351449\n",
       "2               XGBClassifier       58.500624        70.190516\n",
       "3      RandomForestClassifier       60.508109        78.592616\n",
       "4          AdaBoostClassifier       48.621980        50.901121\n",
       "5               MultinomialNB       52.364750        60.769368\n",
       "6  GradientBoostingClassifier       57.990246        60.203660\n",
       "7           BaggingClassifier       56.572530        73.185341\n",
       "8        ExtraTreesClassifier       60.088465        79.370214"
      ]
     },
     "execution_count": 78,
     "metadata": {},
     "output_type": "execute_result"
    }
   ],
   "source": [
    "result = pd.DataFrame({'Model': Model, 'Accuracy_score': score,'Cross_val_score': cvs})\n",
    "result"
   ]
  },
  {
   "cell_type": "markdown",
   "id": "6e2c17cd",
   "metadata": {},
   "source": [
    "# Using gridsearch cv to find the best parameters in GradientBoostingClassifier"
   ]
  },
  {
   "cell_type": "code",
   "execution_count": 128,
   "id": "8221ebe8",
   "metadata": {},
   "outputs": [],
   "source": [
    "from sklearn.ensemble import GradientBoostingClassifier\n",
    "GBC=GradientBoostingClassifier()"
   ]
  },
  {
   "cell_type": "code",
   "execution_count": null,
   "id": "11d22be9",
   "metadata": {},
   "outputs": [],
   "source": [
    "from sklearn.model_selection import GridSearchCV\n",
    "\n",
    "parameters={'max_depth': [1, 3], \n",
    "            'min_samples_leaf': [1, 3], \n",
    "            'min_samples_split': [1, 3, 5],\n",
    "            'n_estimators': [100,200]}\n",
    "gbc=GradientBoostingClassifier()\n",
    "\n",
    "gsv=GridSearchCV(gbc,parameters,cv=5,n_jobs=-1)\n",
    "gsv.fit(x_train_SMOTE,y_train_SMOTE)\n",
    "print(gsv.best_params_)"
   ]
  },
  {
   "cell_type": "code",
   "execution_count": null,
   "id": "66b6b155",
   "metadata": {},
   "outputs": [],
   "source": [
    "#RandomForesetClassifier with best parameters\n",
    "\n",
    "print('GradientBoostingClassifier')\n",
    "rfc=GradientBoostingClassifier(max_depth=100, min_samples_leaf=3, min_samples_split=1, n_estimators=1000)\n",
    "rfc.fit(x_train_ns,y_train_ns)\n",
    "rfc.score(x_train_ns,y_train_ns)\n",
    "predrfc=rfc.predict(x_test)\n",
    "print(accuracy_score(y_test,predrfc))\n",
    "print(confusion_matrix(y_test,predrfc))\n",
    "print(classification_report(y_test,predrfc))"
   ]
  },
  {
   "cell_type": "code",
   "execution_count": null,
   "id": "2756f69d",
   "metadata": {},
   "outputs": [],
   "source": [
    "#saving our model\n",
    "\n",
    "import joblib\n",
    "joblib.dump(RF,'Ratings_prediction.csv')"
   ]
  },
  {
   "cell_type": "code",
   "execution_count": null,
   "id": "08f9e1d2",
   "metadata": {},
   "outputs": [],
   "source": [
    "model=joblib.load('Ratings_prediction.csv')"
   ]
  },
  {
   "cell_type": "code",
   "execution_count": null,
   "id": "a1ceaf30",
   "metadata": {},
   "outputs": [],
   "source": [
    "#Testing our model\n",
    "import sys\n",
    "nums= model.predict(x_test)\n",
    "np.set_printoptions(threshold=sys.maxsize)\n",
    "print(nums)"
   ]
  }
 ],
 "metadata": {
  "kernelspec": {
   "display_name": "Python 3",
   "language": "python",
   "name": "python3"
  },
  "language_info": {
   "codemirror_mode": {
    "name": "ipython",
    "version": 3
   },
   "file_extension": ".py",
   "mimetype": "text/x-python",
   "name": "python",
   "nbconvert_exporter": "python",
   "pygments_lexer": "ipython3",
   "version": "3.8.8"
  }
 },
 "nbformat": 4,
 "nbformat_minor": 5
}
