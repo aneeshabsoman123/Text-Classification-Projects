{
 "cells": [
  {
   "cell_type": "markdown",
   "metadata": {},
   "source": [
    "you need to scrape the reviews of different laptops, Phones, Headphones, smart watches, Professional Cameras, Printers, Monitors, Home theater, Router from different ecommerce websites."
   ]
  },
  {
   "cell_type": "code",
   "execution_count": 1,
   "metadata": {},
   "outputs": [
    {
     "name": "stderr",
     "output_type": "stream",
     "text": [
      "<ipython-input-1-c537a1cd45d3>:13: DeprecationWarning: executable_path has been deprecated, please pass in a Service object\n",
      "  driver=webdriver.Chrome(r\"C:\\chromeDriver.exe\")\n"
     ]
    }
   ],
   "source": [
    "import pandas as pd\n",
    "import selenium\n",
    "from selenium import webdriver\n",
    "import time\n",
    "from selenium.common.exceptions import StaleElementReferenceException, NoSuchElementException\n",
    "from selenium.webdriver.common.by import By\n",
    "from selenium.webdriver.common.keys import Keys\n",
    "import datetime\n",
    "from selenium.webdriver.common.action_chains import ActionChains\n",
    "from selenium.webdriver.common.keys import Keys\n",
    "\n",
    "\n",
    "driver=webdriver.Chrome(r\"C:\\chromeDriver.exe\")"
   ]
  },
  {
   "cell_type": "code",
   "execution_count": 2,
   "metadata": {},
   "outputs": [],
   "source": [
    "from selenium.common.exceptions import NoSuchElementException"
   ]
  },
  {
   "cell_type": "markdown",
   "metadata": {},
   "source": [
    "# FROM FLIPKART"
   ]
  },
  {
   "cell_type": "code",
   "execution_count": 43,
   "metadata": {},
   "outputs": [],
   "source": [
    "Ratings=[]\n",
    "Full_review=[]\n",
    "Object=[]\n"
   ]
  },
  {
   "cell_type": "markdown",
   "metadata": {},
   "source": [
    "# Laptops"
   ]
  },
  {
   "cell_type": "code",
   "execution_count": 44,
   "metadata": {},
   "outputs": [],
   "source": [
    "url_laptops={\"https://www.flipkart.com/hp-14q-core-i3-7th-gen-4-gb-1-tb-hdd-windows-10-home-14q-cs0005tu-thin-light-laptop/product-reviews/itmfb4fw3qzgyyhr?pid=COMFB4FWSBFFFXSR&lid=LSTCOMFB4FWSBFFFXSRS6DLOU&marketplace=FLIPKART&page=10\",\n",
    "             \"https://www.flipkart.com/hp-pavilion-gaming-ryzen-5-quad-core-3550h-8-gb-1-tb-hdd-windows-10-home-4-gb-graphics-nvidia-geforce-gtx-1650-15-ec0101ax-laptop/product-reviews/itma1af6bf593dc8?pid=COMFSFNVDXG74QXR&lid=LSTCOMFSFNVDXG74QXRY8FRH2&marketplace=FLIPKART\",\n",
    "             \"https://www.flipkart.com/lenovo-ideapad-s145-ryzen-3-dual-core-3200u-4-gb-1-tb-hdd-windows-10-home-s145-15api-thin-light-laptop/product-reviews/itm3028b196c8fe1?pid=COMFJM3T7ZF2Z86F&lid=LSTCOMFJM3T7ZF2Z86FUWBWK9&marketplace=FLIPKART\",\n",
    "            \"https://www.flipkart.com/apple-macbook-air-core-i5-5th-gen-8-gb-128-gb-ssd-mac-os-sierra-mqd32hn-a/product-reviews/itm0602f520428ca?pid=COMEVCPQBXBDFJ8C&lid=LSTCOMEVCPQBXBDFJ8C4V6AHG&marketplace=FLIPKART\",\n",
    "            \"https://www.flipkart.com/asus-celeron-dual-core-4-gb-1-tb-hdd-windows-10-home-x543ma-gq1015t-laptop/product-reviews/itmf8811674edbeb?pid=COMFSKF9UQH8RKYF&lid=LSTCOMFSKF9UQH8RKYFK8UKIL&marketplace=FLIPKART\"}\n"
   ]
  },
  {
   "cell_type": "code",
   "execution_count": null,
   "metadata": {},
   "outputs": [],
   "source": [
    "#running a loop to extract all the required information from url\n",
    "\n",
    "\n",
    "for laptops_url in url_laptops:\n",
    "    driver.get(laptops_url)\n",
    "    \n",
    "    for i in range(0,100): \n",
    "        for j in driver.find_elements_by_xpath(\"//div[@class='_3LWZlK _1BLPMq' or @class='_3LWZlK _32lA32 _1BLPMq' or @class='_3LWZlK _1rdVr6 _1BLPMq']\"):\n",
    "            Ratings.append(j.text)\n",
    "            Object.append(\"Laptop\")\n",
    "            \n",
    "\n",
    "        for k in driver.find_elements_by_xpath(\"//div[@class='t-ZTKy']/div/div\"):\n",
    "            Full_review.append(k.text.replace('\\n',' '))\n",
    "            \n",
    "        \n",
    "\n",
    "        button=driver.find_element_by_xpath(\"//*[contains(text(), 'Next')]\")\n",
    "        driver.execute_script(\"arguments[0].click();\", button)\n",
    "\n",
    "        time.sleep(2)\n",
    "    "
   ]
  },
  {
   "cell_type": "code",
   "execution_count": 47,
   "metadata": {},
   "outputs": [
    {
     "name": "stdout",
     "output_type": "stream",
     "text": [
      "2951 2944 2951\n"
     ]
    }
   ],
   "source": [
    "print(len(Ratings),len(Full_review),len(Object))"
   ]
  },
  {
   "cell_type": "markdown",
   "metadata": {},
   "source": [
    "# MOBILE PHONES"
   ]
  },
  {
   "cell_type": "code",
   "execution_count": 7,
   "metadata": {},
   "outputs": [],
   "source": [
    "urls_mobile_phones={'https://www.flipkart.com/redmi-8a-dual-sky-white-32-gb/product-reviews/itmf5568beb3c3a5?pid=MOBFP7FMS6GNPQFY&lid=LSTMOBFP7FMS6GNPQFY0CYWJU&marketplace=FLIPKART',\n",
    "                    'https://www.flipkart.com/redmi-9-sporty-orange-64-gb/product-reviews/itm4fb151383983b?pid=MOBFV5FPCJC9ZKRB&lid=LSTMOBFV5FPCJC9ZKRBIAYSS8&marketplace=FLIPKART',\n",
    "                   'https://www.flipkart.com/samsung-galaxy-f12-celestial-black-64-gb/product-reviews/itmaae10b8db3909?pid=MOBGFG79FUDPXZXQ&lid=LSTMOBGFG79FUDPXZXQH5PM6N&marketplace=FLIPKART'}"
   ]
  },
  {
   "cell_type": "code",
   "execution_count": 49,
   "metadata": {},
   "outputs": [
    {
     "name": "stderr",
     "output_type": "stream",
     "text": [
      "<ipython-input-49-967bcf4b2f30>:5: DeprecationWarning: find_elements_by_* commands are deprecated. Please use find_elements() instead\n",
      "  for j in driver.find_elements_by_xpath(\"//div[@class='_3LWZlK _1BLPMq' or @class='_3LWZlK _32lA32 _1BLPMq' or @class='_3LWZlK _1rdVr6 _1BLPMq']\"):\n",
      "<ipython-input-49-967bcf4b2f30>:9: DeprecationWarning: find_elements_by_* commands are deprecated. Please use find_elements() instead\n",
      "  for k in driver.find_elements_by_xpath(\"//div[@class='t-ZTKy']/div/div\"):\n",
      "<ipython-input-49-967bcf4b2f30>:13: DeprecationWarning: find_element_by_* commands are deprecated. Please use find_element() instead\n",
      "  button=driver.find_element_by_xpath(\"//*[contains(text(), 'Next')]\")\n"
     ]
    }
   ],
   "source": [
    "for mobile_url in urls_mobile_phones:\n",
    "    driver.get(mobile_url)\n",
    "    \n",
    "    for i in range(0,110): \n",
    "        for j in driver.find_elements_by_xpath(\"//div[@class='_3LWZlK _1BLPMq' or @class='_3LWZlK _32lA32 _1BLPMq' or @class='_3LWZlK _1rdVr6 _1BLPMq']\"):\n",
    "            Ratings.append(j.text)\n",
    "            Object.append(\"Mobile phone\")\n",
    "\n",
    "        for k in driver.find_elements_by_xpath(\"//div[@class='t-ZTKy']/div/div\"):\n",
    "            Full_review.append(k.text.replace('\\n',' '))\n",
    "\n",
    "        try:\n",
    "            button=driver.find_element_by_xpath(\"//*[contains(text(), 'Next')]\")\n",
    "            driver.execute_script(\"arguments[0].click();\", button)\n",
    "        except NoSuchElementException:\n",
    "            pass\n",
    "        time.sleep(2)\n",
    "    "
   ]
  },
  {
   "cell_type": "code",
   "execution_count": 50,
   "metadata": {},
   "outputs": [
    {
     "name": "stdout",
     "output_type": "stream",
     "text": [
      "5868 5861 5868\n"
     ]
    }
   ],
   "source": [
    "print(len(Ratings),len(Full_review),len(Object))\n"
   ]
  },
  {
   "cell_type": "markdown",
   "metadata": {},
   "source": [
    "# HEADPHONES"
   ]
  },
  {
   "cell_type": "code",
   "execution_count": 51,
   "metadata": {},
   "outputs": [],
   "source": [
    "urls_headphones={\"https://www.flipkart.com/boat-wired-headset/product-reviews/itmcef2a10b6ea14?pid=ACCFGYHGGDCFYCA3&lid=LSTACCFGYHGGDCFYCA3NCS7JM&marketplace=FLIPKART\",\n",
    "                 \"https://www.flipkart.com/boat-airdopes-131-bluetooth-headset/product-reviews/itmf76c6f983fbca?pid=ACCFSDGXX3S6DVBG&lid=LSTACCFSDGXX3S6DVBGSRHQQR&marketplace=FLIPKART\",\n",
    "                 \"https://www.flipkart.com/boat-rockerz-235v2-asap-charging-version-5-0-bluetooth-headset/product-reviews/itm80b17259c3dfb?pid=ACCFZGAPGBQ7FP8H&lid=LSTACCFZGAPGBQ7FP8HALSDXA&marketplace=FLIPKART\"}"
   ]
  },
  {
   "cell_type": "code",
   "execution_count": null,
   "metadata": {},
   "outputs": [],
   "source": [
    "for headphones_url in urls_headphones:\n",
    "    driver.get(headphones_url)\n",
    "    \n",
    "    for i in range(0,3830): \n",
    "        for j in driver.find_elements_by_xpath(\"//div[@class='_3LWZlK _1BLPMq' or @class='_3LWZlK _32lA32 _1BLPMq' or @class='_3LWZlK _1rdVr6 _1BLPMq']\"):\n",
    "            Ratings.append(j.text)\n",
    "            Object.append(\"Headphone\")\n",
    "\n",
    "        for k in driver.find_elements_by_xpath(\"//div[@class='t-ZTKy']/div/div\"):\n",
    "            Full_review.append(k.text.replace('\\n',' '))\n",
    "\n",
    "        try:\n",
    "            button=driver.find_element_by_xpath(\"//*[contains(text(), 'Next')]\")\n",
    "            driver.execute_script(\"arguments[0].click();\", button)\n",
    "        except NoSuchElementException:\n",
    "            pass\n",
    "        time.sleep(2)\n",
    "    "
   ]
  },
  {
   "cell_type": "code",
   "execution_count": 53,
   "metadata": {},
   "outputs": [
    {
     "name": "stdout",
     "output_type": "stream",
     "text": [
      "7968 7961 7968\n"
     ]
    }
   ],
   "source": [
    "print(len(Ratings),len(Full_review),len(Object))"
   ]
  },
  {
   "cell_type": "markdown",
   "metadata": {},
   "source": [
    "# SMART WATCHES"
   ]
  },
  {
   "cell_type": "code",
   "execution_count": 54,
   "metadata": {},
   "outputs": [],
   "source": [
    "urls_smartwatches={\"https://www.flipkart.com/mi-band-3/product-reviews/itm673290f5022f8?pid=SBNFAHYTYHXDZHHC&lid=LSTSBNFAHYTYHXDZHHCUBH53N&marketplace=FLIPKART\",\n",
    "                   \"https://www.flipkart.com/boat-storm-smartwatch/product-reviews/itm215a48c547168?pid=SMWFW8HFSDGTX5DG&lid=LSTSMWFW8HFSDGTX5DGUIDVCR&marketplace=FLIPKART\"}"
   ]
  },
  {
   "cell_type": "code",
   "execution_count": null,
   "metadata": {},
   "outputs": [],
   "source": [
    "for smartwatches_url in urls_smartwatches:\n",
    "    driver.get(smartwatches_url)\n",
    "    \n",
    "    for i in range(0,1800): \n",
    "        for j in driver.find_elements_by_xpath(\"//div[@class='_3LWZlK _1BLPMq' or @class='_3LWZlK _32lA32 _1BLPMq' or @class='_3LWZlK _1rdVr6 _1BLPMq']\"):\n",
    "            Ratings.append(j.text)\n",
    "            Object.append(\"Smart Watch\")\n",
    "\n",
    "        for k in driver.find_elements_by_xpath(\"//div[@class='t-ZTKy']/div/div\"):\n",
    "            Full_review.append(k.text.replace('\\n',' '))\n",
    "\n",
    "        try:\n",
    "            button=driver.find_element_by_xpath(\"//*[contains(text(), 'Next')]\")\n",
    "            driver.execute_script(\"arguments[0].click();\", button)\n",
    "        except NoSuchElementException:\n",
    "            pass\n",
    "        time.sleep(2)"
   ]
  },
  {
   "cell_type": "code",
   "execution_count": 56,
   "metadata": {},
   "outputs": [
    {
     "name": "stdout",
     "output_type": "stream",
     "text": [
      "12022 12015 12022\n"
     ]
    }
   ],
   "source": [
    "print(len(Ratings),len(Full_review),len(Object))"
   ]
  },
  {
   "cell_type": "markdown",
   "metadata": {},
   "source": [
    "# CAMERAS"
   ]
  },
  {
   "cell_type": "code",
   "execution_count": 57,
   "metadata": {},
   "outputs": [],
   "source": [
    "urls_cameras={\"https://www.flipkart.com/canon-eos-3000d-dslr-camera-1-body-18-55-mm-lens/product-reviews/itm6f665fea97bc2?pid=CAMF3DHJURPEMNRN&lid=LSTCAMF3DHJURPEMNRNYD4BKP&marketplace=FLIPKART\",\n",
    "              \"https://www.flipkart.com/nikon-d5600-dslr-camera-body-dual-lens-af-p-dx-nikkor-18-55-mm-f-3-5-5-6g-vr-70-300-f-4-5-6-3g-ed/product-reviews/itm8bd75efa91403?pid=DLLEZVB8MDXDYTHG&lid=LSTDLLEZVB8MDXDYTHGP8CUFI&marketplace=FLIPKART\"}"
   ]
  },
  {
   "cell_type": "code",
   "execution_count": 58,
   "metadata": {},
   "outputs": [
    {
     "name": "stderr",
     "output_type": "stream",
     "text": [
      "<ipython-input-58-92af76ff8306>:5: DeprecationWarning: find_elements_by_* commands are deprecated. Please use find_elements() instead\n",
      "  for j in driver.find_elements_by_xpath(\"//div[@class='_3LWZlK _1BLPMq' or @class='_3LWZlK _32lA32 _1BLPMq' or @class='_3LWZlK _1rdVr6 _1BLPMq']\"):\n",
      "<ipython-input-58-92af76ff8306>:9: DeprecationWarning: find_elements_by_* commands are deprecated. Please use find_elements() instead\n",
      "  for k in driver.find_elements_by_xpath(\"//div[@class='t-ZTKy']/div/div\"):\n",
      "<ipython-input-58-92af76ff8306>:13: DeprecationWarning: find_element_by_* commands are deprecated. Please use find_element() instead\n",
      "  button=driver.find_element_by_xpath(\"//*[contains(text(), 'Next')]\")\n"
     ]
    }
   ],
   "source": [
    "for cameras_url in urls_cameras:\n",
    "    driver.get(cameras_url)\n",
    "    \n",
    "    for i in range(0,170): \n",
    "        for j in driver.find_elements_by_xpath(\"//div[@class='_3LWZlK _1BLPMq' or @class='_3LWZlK _32lA32 _1BLPMq' or @class='_3LWZlK _1rdVr6 _1BLPMq']\"):\n",
    "            Ratings.append(j.text)\n",
    "            Object.append(\"Smart Watch\")\n",
    "\n",
    "        for k in driver.find_elements_by_xpath(\"//div[@class='t-ZTKy']/div/div\"):\n",
    "            Full_review.append(k.text.replace('\\n',' '))\n",
    "\n",
    "        try:\n",
    "            button=driver.find_element_by_xpath(\"//*[contains(text(), 'Next')]\")\n",
    "            driver.execute_script(\"arguments[0].click();\", button)\n",
    "        except NoSuchElementException:\n",
    "            pass\n",
    "        time.sleep(2)"
   ]
  },
  {
   "cell_type": "code",
   "execution_count": 59,
   "metadata": {},
   "outputs": [
    {
     "name": "stdout",
     "output_type": "stream",
     "text": [
      "15422 15415 15422\n"
     ]
    }
   ],
   "source": [
    "print(len(Ratings),len(Full_review),len(Object))"
   ]
  },
  {
   "cell_type": "code",
   "execution_count": 60,
   "metadata": {},
   "outputs": [],
   "source": [
    "urls_camera2=\"https://www.flipkart.com/canon-eos-3000d-dslr-camera-1-body-18-55-mm-lens/product-questions/itm6f665fea97bc2?pid=CAMF3DHJURPEMNRN\"\n",
    "driver.get(cameras_url)"
   ]
  },
  {
   "cell_type": "code",
   "execution_count": 61,
   "metadata": {},
   "outputs": [
    {
     "name": "stderr",
     "output_type": "stream",
     "text": [
      "<ipython-input-61-c6aef6142346>:2: DeprecationWarning: find_elements_by_* commands are deprecated. Please use find_elements() instead\n",
      "  for j in driver.find_elements_by_xpath(\"//div[@class='_3LWZlK _1BLPMq' or @class='_3LWZlK _32lA32 _1BLPMq' or @class='_3LWZlK _1rdVr6 _1BLPMq']\"):\n",
      "<ipython-input-61-c6aef6142346>:6: DeprecationWarning: find_elements_by_* commands are deprecated. Please use find_elements() instead\n",
      "  for k in driver.find_elements_by_xpath(\"//div[@class='t-ZTKy']/div/div\"):\n",
      "<ipython-input-61-c6aef6142346>:10: DeprecationWarning: find_element_by_* commands are deprecated. Please use find_element() instead\n",
      "  button=driver.find_element_by_xpath(\"//*[contains(text(), 'Next')]\")\n"
     ]
    }
   ],
   "source": [
    "for i in range(0,100): \n",
    "        for j in driver.find_elements_by_xpath(\"//div[@class='_3LWZlK _1BLPMq' or @class='_3LWZlK _32lA32 _1BLPMq' or @class='_3LWZlK _1rdVr6 _1BLPMq']\"):\n",
    "            Ratings.append(j.text)\n",
    "            Object.append(\"Smart Watch\")\n",
    "\n",
    "        for k in driver.find_elements_by_xpath(\"//div[@class='t-ZTKy']/div/div\"):\n",
    "            Full_review.append(k.text.replace('\\n',' '))\n",
    "\n",
    "        try:\n",
    "            button=driver.find_element_by_xpath(\"//*[contains(text(), 'Next')]\")\n",
    "            driver.execute_script(\"arguments[0].click();\", button)\n",
    "        except NoSuchElementException:\n",
    "            pass\n",
    "        time.sleep(2)"
   ]
  },
  {
   "cell_type": "code",
   "execution_count": 62,
   "metadata": {},
   "outputs": [
    {
     "name": "stdout",
     "output_type": "stream",
     "text": [
      "16422 16415 16422\n"
     ]
    }
   ],
   "source": [
    "print(len(Ratings),len(Full_review),len(Object))"
   ]
  },
  {
   "cell_type": "markdown",
   "metadata": {},
   "source": [
    "# Printers"
   ]
  },
  {
   "cell_type": "code",
   "execution_count": null,
   "metadata": {},
   "outputs": [],
   "source": [
    "printer_url='https://www.flipkart.com/canon-pixma-mg2470-all-in-one-inkjet-printer/product-reviews/itmdqatqsyzyzffn?pid=PRNDQAR9KZEKSKRF&lid=LSTPRNDQAR9KZEKSKRFEMB7B0&marketplace=FLIPKART'\n",
    "driver.get(printer_url)\n",
    "\n",
    "for i in range(0,610): \n",
    "    for j in driver.find_elements_by_xpath(\"//div[@class='_3LWZlK _1BLPMq' or @class='_3LWZlK _32lA32 _1BLPMq' or @class='_3LWZlK _1rdVr6 _1BLPMq']\"):\n",
    "        Ratings.append(j.text)\n",
    "        Object.append(\"Printers\")    \n",
    "            \n",
    "    for k in driver.find_elements_by_xpath(\"//div[@class='t-ZTKy']/div/div\"):\n",
    "        Full_review.append(k.text.replace('\\n',' '))\n",
    "    \n",
    "    try:\n",
    "        button=driver.find_element_by_xpath(\"//*[contains(text(), 'Next')]\")\n",
    "        driver.execute_script(\"arguments[0].click();\", button)\n",
    "    except NoSuchElementException:\n",
    "        pass\n",
    "    time.sleep(2)"
   ]
  },
  {
   "cell_type": "code",
   "execution_count": 65,
   "metadata": {},
   "outputs": [
    {
     "name": "stdout",
     "output_type": "stream",
     "text": [
      "26055 26048 26055\n"
     ]
    }
   ],
   "source": [
    "print(len(Ratings),len(Full_review),len(Object))"
   ]
  },
  {
   "cell_type": "markdown",
   "metadata": {},
   "source": [
    "# Monitors"
   ]
  },
  {
   "cell_type": "code",
   "execution_count": 67,
   "metadata": {},
   "outputs": [
    {
     "name": "stderr",
     "output_type": "stream",
     "text": [
      "<ipython-input-67-69e46c1f9470>:8: DeprecationWarning: find_elements_by_* commands are deprecated. Please use find_elements() instead\n",
      "  for j in driver.find_elements_by_xpath(\"//div[@class='_3LWZlK _1BLPMq' or @class='_3LWZlK _32lA32 _1BLPMq' or @class='_3LWZlK _1rdVr6 _1BLPMq']\"):\n",
      "<ipython-input-67-69e46c1f9470>:12: DeprecationWarning: find_elements_by_* commands are deprecated. Please use find_elements() instead\n",
      "  for k in driver.find_elements_by_xpath(\"//div[@class='t-ZTKy']/div/div\"):\n",
      "<ipython-input-67-69e46c1f9470>:16: DeprecationWarning: find_element_by_* commands are deprecated. Please use find_element() instead\n",
      "  button=driver.find_element_by_xpath(\"//*[contains(text(), 'Next')]\")\n"
     ]
    }
   ],
   "source": [
    "urls_monitors={\"https://www.flipkart.com/dell-18-5-inch-hd-led-backlit-tn-panel-monitor-d1918h/product-reviews/itmewm8z6awyx9rr?pid=MONEWM8ZKY38PWVP&lid=LSTMONEWM8ZKY38PWVPIKWEMH&marketplace=FLIPKART\",\n",
    "              \"https://www.flipkart.com/hp-23-8-inch-full-hd-led-backlit-ips-panel-monitor-24es/product-reviews/itm5613f46e3d8db?pid=MONEQFE5PQNQHHZF&lid=LSTMONEQFE5PQNQHHZFESEDRU&marketplace=FLIPKART\"}\n",
    "\n",
    "for monitors_url in urls_monitors:\n",
    "    driver.get(monitors_url)\n",
    "    \n",
    "    for i in range(0,130): \n",
    "        for j in driver.find_elements_by_xpath(\"//div[@class='_3LWZlK _1BLPMq' or @class='_3LWZlK _32lA32 _1BLPMq' or @class='_3LWZlK _1rdVr6 _1BLPMq']\"):\n",
    "            Ratings.append(j.text)\n",
    "            Object.append(\"Monitors\")\n",
    "\n",
    "        for k in driver.find_elements_by_xpath(\"//div[@class='t-ZTKy']/div/div\"):\n",
    "            Full_review.append(k.text.replace('\\n',' '))\n",
    "\n",
    "        try:\n",
    "            button=driver.find_element_by_xpath(\"//*[contains(text(), 'Next')]\")\n",
    "            driver.execute_script(\"arguments[0].click();\", button)\n",
    "        except NoSuchElementException:\n",
    "            pass\n",
    "        time.sleep(2)"
   ]
  },
  {
   "cell_type": "code",
   "execution_count": 68,
   "metadata": {},
   "outputs": [
    {
     "name": "stdout",
     "output_type": "stream",
     "text": [
      "28404 28395 28404\n"
     ]
    }
   ],
   "source": [
    "print(len(Ratings),len(Full_review),len(Object))"
   ]
  },
  {
   "cell_type": "markdown",
   "metadata": {},
   "source": [
    "# Home Theathre"
   ]
  },
  {
   "cell_type": "code",
   "execution_count": 69,
   "metadata": {},
   "outputs": [
    {
     "name": "stderr",
     "output_type": "stream",
     "text": [
      "<ipython-input-69-39ddc51eb62d>:5: DeprecationWarning: find_elements_by_* commands are deprecated. Please use find_elements() instead\n",
      "  for j in driver.find_elements_by_xpath(\"//div[@class='_3LWZlK _1BLPMq' or @class='_3LWZlK _32lA32 _1BLPMq' or @class='_3LWZlK _1rdVr6 _1BLPMq']\"):\n",
      "<ipython-input-69-39ddc51eb62d>:9: DeprecationWarning: find_elements_by_* commands are deprecated. Please use find_elements() instead\n",
      "  for k in driver.find_elements_by_xpath(\"//div[@class='t-ZTKy']/div/div\"):\n",
      "<ipython-input-69-39ddc51eb62d>:13: DeprecationWarning: find_element_by_* commands are deprecated. Please use find_element() instead\n",
      "  button=driver.find_element_by_xpath(\"//*[contains(text(), 'Next')]\")\n"
     ]
    }
   ],
   "source": [
    "urls_home_theathre1=\"https://www.flipkart.com/zebronics-bt4440-rucf-60-watt-bluetooth-home-theatre/product-reviews/itm64f4909b3a65a?pid=ACCEA25DZGJUCYYH&lid=LSTACCEA25DZGJUCYYHGWTIFY&marketplace=FLIPKART\"\n",
    "driver.get(urls_home_theathre1)\n",
    "\n",
    "for i in range(0,170): \n",
    "        for j in driver.find_elements_by_xpath(\"//div[@class='_3LWZlK _1BLPMq' or @class='_3LWZlK _32lA32 _1BLPMq' or @class='_3LWZlK _1rdVr6 _1BLPMq']\"):\n",
    "            Ratings.append(j.text)\n",
    "            Object.append(\"Home Theathre\")\n",
    "\n",
    "        for k in driver.find_elements_by_xpath(\"//div[@class='t-ZTKy']/div/div\"):\n",
    "            Full_review.append(k.text.replace('\\n',' '))\n",
    "\n",
    "        try:\n",
    "            button=driver.find_element_by_xpath(\"//*[contains(text(), 'Next')]\")\n",
    "            driver.execute_script(\"arguments[0].click();\", button)\n",
    "        except NoSuchElementException:\n",
    "            pass\n",
    "        time.sleep(2)"
   ]
  },
  {
   "cell_type": "code",
   "execution_count": 71,
   "metadata": {},
   "outputs": [
    {
     "name": "stderr",
     "output_type": "stream",
     "text": [
      "<ipython-input-71-83d49cd61fc5>:5: DeprecationWarning: find_elements_by_* commands are deprecated. Please use find_elements() instead\n",
      "  for j in driver.find_elements_by_xpath(\"//div[@class='_3LWZlK _1BLPMq' or @class='_3LWZlK _32lA32 _1BLPMq' or @class='_3LWZlK _1rdVr6 _1BLPMq']\"):\n",
      "<ipython-input-71-83d49cd61fc5>:9: DeprecationWarning: find_elements_by_* commands are deprecated. Please use find_elements() instead\n",
      "  for k in driver.find_elements_by_xpath(\"//div[@class='t-ZTKy']/div/div\"):\n",
      "<ipython-input-71-83d49cd61fc5>:13: DeprecationWarning: find_element_by_* commands are deprecated. Please use find_element() instead\n",
      "  button=driver.find_element_by_xpath(\"//*[contains(text(), 'Next')]\")\n"
     ]
    }
   ],
   "source": [
    "urls_home_theathre2=\"https://www.flipkart.com/zebronics-zeb-feel-4-60-w-bluetooth-home-theatre/product-reviews/itm94d41fc82f9e1?pid=ACCFF6XGWJ5SXYGQ&lid=LSTACCFF6XGWJ5SXYGQUCXMJ9&marketplace=FLIPKART\"\n",
    "driver.get(urls_home_theathre2)\n",
    "\n",
    "for i in range(0,170): \n",
    "        for j in driver.find_elements_by_xpath(\"//div[@class='_3LWZlK _1BLPMq' or @class='_3LWZlK _32lA32 _1BLPMq' or @class='_3LWZlK _1rdVr6 _1BLPMq']\"):\n",
    "            Ratings.append(j.text)\n",
    "            Object.append(\"Home Theathre\")\n",
    "\n",
    "        for k in driver.find_elements_by_xpath(\"//div[@class='t-ZTKy']/div/div\"):\n",
    "            Full_review.append(k.text.replace('\\n',' '))\n",
    "\n",
    "        try:\n",
    "            button=driver.find_element_by_xpath(\"//*[contains(text(), 'Next')]\")\n",
    "            driver.execute_script(\"arguments[0].click();\", button)\n",
    "        except NoSuchElementException:\n",
    "            pass\n",
    "        time.sleep(2)"
   ]
  },
  {
   "cell_type": "code",
   "execution_count": 72,
   "metadata": {},
   "outputs": [
    {
     "name": "stdout",
     "output_type": "stream",
     "text": [
      "31335 31326 31335\n"
     ]
    }
   ],
   "source": [
    "print(len(Ratings),len(Full_review),len(Object))"
   ]
  },
  {
   "cell_type": "code",
   "execution_count": null,
   "metadata": {},
   "outputs": [],
   "source": []
  },
  {
   "cell_type": "markdown",
   "metadata": {},
   "source": [
    "# Router"
   ]
  },
  {
   "cell_type": "code",
   "execution_count": 73,
   "metadata": {},
   "outputs": [
    {
     "name": "stderr",
     "output_type": "stream",
     "text": [
      "<ipython-input-73-c062959fddf8>:8: DeprecationWarning: find_elements_by_* commands are deprecated. Please use find_elements() instead\n",
      "  for j in driver.find_elements_by_xpath(\"//div[@class='_3LWZlK _1BLPMq' or @class='_3LWZlK _32lA32 _1BLPMq' or @class='_3LWZlK _1rdVr6 _1BLPMq']\"):\n",
      "<ipython-input-73-c062959fddf8>:12: DeprecationWarning: find_elements_by_* commands are deprecated. Please use find_elements() instead\n",
      "  for k in driver.find_elements_by_xpath(\"//div[@class='t-ZTKy']/div/div\"):\n",
      "<ipython-input-73-c062959fddf8>:16: DeprecationWarning: find_element_by_* commands are deprecated. Please use find_element() instead\n",
      "  button=driver.find_element_by_xpath(\"//*[contains(text(), 'Next')]\")\n"
     ]
    },
    {
     "name": "stdout",
     "output_type": "stream",
     "text": [
      "35306 35297 35306\n"
     ]
    }
   ],
   "source": [
    "urls_monitors={\"https://www.flipkart.com/d-link-dir-819-750-mbps-wireless-router/product-reviews/itmff2hynmhzhtqa?pid=RTRFF2HYYUYHCGGK&lid=LSTRTRFF2HYYUYHCGGKB3BKOG&marketplace=FLIPKART\",\n",
    "               \"https://www.flipkart.com/tp-link-tl-wr841n-300mbps-wireless-n-router/product-reviews/itmf48vgyfyx8m4f?pid=RTRD7HN3JJYF6WN2&lid=LSTRTRD7HN3JJYF6WN20ZITXQ&marketplace=FLIPKART\"}\n",
    "\n",
    "for monitors_url in urls_monitors:\n",
    "    driver.get(monitors_url)\n",
    "    \n",
    "    for i in range(0,200): \n",
    "            for j in driver.find_elements_by_xpath(\"//div[@class='_3LWZlK _1BLPMq' or @class='_3LWZlK _32lA32 _1BLPMq' or @class='_3LWZlK _1rdVr6 _1BLPMq']\"):\n",
    "                Ratings.append(j.text)\n",
    "                Object.append(\"Router\")\n",
    "\n",
    "            for k in driver.find_elements_by_xpath(\"//div[@class='t-ZTKy']/div/div\"):\n",
    "                Full_review.append(k.text.replace('\\n',' '))\n",
    "\n",
    "            try:\n",
    "                button=driver.find_element_by_xpath(\"//*[contains(text(), 'Next')]\")\n",
    "                driver.execute_script(\"arguments[0].click();\", button)\n",
    "            except NoSuchElementException:\n",
    "                pass\n",
    "            time.sleep(2)\n",
    "\n",
    "print(len(Ratings),len(Full_review),len(Object))"
   ]
  },
  {
   "cell_type": "code",
   "execution_count": 83,
   "metadata": {},
   "outputs": [
    {
     "name": "stdout",
     "output_type": "stream",
     "text": [
      "35282 35297 35282\n"
     ]
    }
   ],
   "source": [
    "print(len(Ratings),len(Full_review),len(Object))"
   ]
  },
  {
   "cell_type": "code",
   "execution_count": 84,
   "metadata": {},
   "outputs": [],
   "source": [
    "x=Ratings\n",
    "y=Object\n",
    "z=Full_review"
   ]
  },
  {
   "cell_type": "code",
   "execution_count": 86,
   "metadata": {},
   "outputs": [
    {
     "name": "stdout",
     "output_type": "stream",
     "text": [
      "35267 35267 35267\n"
     ]
    }
   ],
   "source": [
    "x=x[:-15]\n",
    "y=y[:-15]\n",
    "z=z[:-30]\n",
    "print(len(x),len(z),len(y))"
   ]
  },
  {
   "cell_type": "code",
   "execution_count": 85,
   "metadata": {},
   "outputs": [],
   "source": [
    "a=Ratings\n",
    "b=Object\n",
    "c=Full_review"
   ]
  },
  {
   "cell_type": "code",
   "execution_count": 87,
   "metadata": {},
   "outputs": [
    {
     "data": {
      "text/html": [
       "<div>\n",
       "<style scoped>\n",
       "    .dataframe tbody tr th:only-of-type {\n",
       "        vertical-align: middle;\n",
       "    }\n",
       "\n",
       "    .dataframe tbody tr th {\n",
       "        vertical-align: top;\n",
       "    }\n",
       "\n",
       "    .dataframe thead th {\n",
       "        text-align: right;\n",
       "    }\n",
       "</style>\n",
       "<table border=\"1\" class=\"dataframe\">\n",
       "  <thead>\n",
       "    <tr style=\"text-align: right;\">\n",
       "      <th></th>\n",
       "      <th>Ratings</th>\n",
       "      <th>Full_review</th>\n",
       "      <th>Object</th>\n",
       "    </tr>\n",
       "  </thead>\n",
       "  <tbody>\n",
       "    <tr>\n",
       "      <th>0</th>\n",
       "      <td>5</td>\n",
       "      <td>I was a bit skeptical about buying this laptop...</td>\n",
       "      <td>Laptop</td>\n",
       "    </tr>\n",
       "    <tr>\n",
       "      <th>1</th>\n",
       "      <td>5</td>\n",
       "      <td>Highly recommended, the packing was fantastic,...</td>\n",
       "      <td>Laptop</td>\n",
       "    </tr>\n",
       "    <tr>\n",
       "      <th>2</th>\n",
       "      <td>4</td>\n",
       "      <td>I wanted to buy a laptoo fir mild use which wi...</td>\n",
       "      <td>Laptop</td>\n",
       "    </tr>\n",
       "    <tr>\n",
       "      <th>3</th>\n",
       "      <td>5</td>\n",
       "      <td>apple is best among all, even it is 2017 model...</td>\n",
       "      <td>Laptop</td>\n",
       "    </tr>\n",
       "    <tr>\n",
       "      <th>4</th>\n",
       "      <td>5</td>\n",
       "      <td>A decent purchase at very low rate thanks to f...</td>\n",
       "      <td>Laptop</td>\n",
       "    </tr>\n",
       "    <tr>\n",
       "      <th>...</th>\n",
       "      <td>...</td>\n",
       "      <td>...</td>\n",
       "      <td>...</td>\n",
       "    </tr>\n",
       "    <tr>\n",
       "      <th>35262</th>\n",
       "      <td>1</td>\n",
       "      <td>Everything is good but the configuration is ve...</td>\n",
       "      <td>Router</td>\n",
       "    </tr>\n",
       "    <tr>\n",
       "      <th>35263</th>\n",
       "      <td>4</td>\n",
       "      <td>Nice product</td>\n",
       "      <td>Router</td>\n",
       "    </tr>\n",
       "    <tr>\n",
       "      <th>35264</th>\n",
       "      <td>1</td>\n",
       "      <td>Superb quality</td>\n",
       "      <td>Router</td>\n",
       "    </tr>\n",
       "    <tr>\n",
       "      <th>35265</th>\n",
       "      <td>5</td>\n",
       "      <td>Aswme product Thanks</td>\n",
       "      <td>Router</td>\n",
       "    </tr>\n",
       "    <tr>\n",
       "      <th>35266</th>\n",
       "      <td>1</td>\n",
       "      <td>Worst product keeps getting disconnected .afte...</td>\n",
       "      <td>Router</td>\n",
       "    </tr>\n",
       "  </tbody>\n",
       "</table>\n",
       "<p>35267 rows × 3 columns</p>\n",
       "</div>"
      ],
      "text/plain": [
       "      Ratings                                        Full_review  Object\n",
       "0           5  I was a bit skeptical about buying this laptop...  Laptop\n",
       "1           5  Highly recommended, the packing was fantastic,...  Laptop\n",
       "2           4  I wanted to buy a laptoo fir mild use which wi...  Laptop\n",
       "3           5  apple is best among all, even it is 2017 model...  Laptop\n",
       "4           5  A decent purchase at very low rate thanks to f...  Laptop\n",
       "...       ...                                                ...     ...\n",
       "35262       1  Everything is good but the configuration is ve...  Router\n",
       "35263       4                                       Nice product  Router\n",
       "35264       1                                     Superb quality  Router\n",
       "35265       5                               Aswme product Thanks  Router\n",
       "35266       1  Worst product keeps getting disconnected .afte...  Router\n",
       "\n",
       "[35267 rows x 3 columns]"
      ]
     },
     "execution_count": 87,
     "metadata": {},
     "output_type": "execute_result"
    }
   ],
   "source": [
    "#creating a dataframe\n",
    "Reviews=pd.DataFrame({})\n",
    "Reviews['Ratings']=x\n",
    "Reviews['Full_review']=z\n",
    "Reviews['Object']=y\n",
    "\n",
    "Reviews"
   ]
  },
  {
   "cell_type": "code",
   "execution_count": 88,
   "metadata": {},
   "outputs": [],
   "source": [
    "#converting into csv format\n",
    "Reviews.to_csv(\"Reviews.csv\")"
   ]
  },
  {
   "cell_type": "code",
   "execution_count": 89,
   "metadata": {},
   "outputs": [],
   "source": [
    "#closing the driver\n",
    "driver.close()"
   ]
  },
  {
   "cell_type": "code",
   "execution_count": 91,
   "metadata": {},
   "outputs": [],
   "source": [
    "df=Reviews"
   ]
  },
  {
   "cell_type": "code",
   "execution_count": 92,
   "metadata": {},
   "outputs": [
    {
     "name": "stdout",
     "output_type": "stream",
     "text": [
      "<class 'pandas.core.frame.DataFrame'>\n",
      "RangeIndex: 35267 entries, 0 to 35266\n",
      "Data columns (total 3 columns):\n",
      " #   Column       Non-Null Count  Dtype \n",
      "---  ------       --------------  ----- \n",
      " 0   Ratings      35267 non-null  object\n",
      " 1   Full_review  35267 non-null  object\n",
      " 2   Object       35267 non-null  object\n",
      "dtypes: object(3)\n",
      "memory usage: 826.7+ KB\n"
     ]
    }
   ],
   "source": [
    "df.info()"
   ]
  },
  {
   "cell_type": "code",
   "execution_count": 93,
   "metadata": {},
   "outputs": [
    {
     "data": {
      "text/plain": [
       "5    19201\n",
       "4     7313\n",
       "1     4887\n",
       "3     2737\n",
       "2     1129\n",
       "Name: Ratings, dtype: int64"
      ]
     },
     "execution_count": 93,
     "metadata": {},
     "output_type": "execute_result"
    }
   ],
   "source": [
    "df[\"Ratings\"].value_counts()"
   ]
  },
  {
   "cell_type": "markdown",
   "metadata": {},
   "source": [
    "Data has different number of ratings which will cause overfitting in modelling"
   ]
  },
  {
   "cell_type": "code",
   "execution_count": null,
   "metadata": {},
   "outputs": [],
   "source": []
  }
 ],
 "metadata": {
  "kernelspec": {
   "display_name": "Python 3 (ipykernel)",
   "language": "python",
   "name": "python3"
  },
  "language_info": {
   "codemirror_mode": {
    "name": "ipython",
    "version": 3
   },
   "file_extension": ".py",
   "mimetype": "text/x-python",
   "name": "python",
   "nbconvert_exporter": "python",
   "pygments_lexer": "ipython3",
   "version": "3.7.11"
  }
 },
 "nbformat": 4,
 "nbformat_minor": 4
}
