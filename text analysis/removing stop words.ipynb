{
 "cells": [
  {
   "cell_type": "markdown",
   "metadata": {},
   "source": [
    "The words which are generally filtered out before processing a natural language are called stop words. These are actually the most common words in any language (like articles, prepositions, pronouns, conjunctions, etc) and does not add much information to the text. Examples of a few stop words in English are “the”, “a”, “an”, “so”, “what”"
   ]
  },
  {
   "cell_type": "markdown",
   "metadata": {},
   "source": [
    "We do not always remove the stop words. The removal of stop words is highly dependent on the task we are performing and the goal we want to achieve. For example, if we are training a model that can perform the sentiment analysis task, we might not remove the stop words.\n",
    "\n",
    "\n",
    "Movie review: “The movie was not good at all.” \n",
    "\n",
    "Text after removal of stop words: “movie good”"
   ]
  },
  {
   "cell_type": "markdown",
   "metadata": {},
   "source": [
    "# Through Natural Language Toolkit (NLTK)"
   ]
  },
  {
   "cell_type": "code",
   "execution_count": 1,
   "metadata": {},
   "outputs": [
    {
     "name": "stdout",
     "output_type": "stream",
     "text": [
      "['i', 'me', 'my', 'myself', 'we', 'our', 'ours', 'ourselves', 'you', \"you're\", \"you've\", \"you'll\", \"you'd\", 'your', 'yours', 'yourself', 'yourselves', 'he', 'him', 'his', 'himself', 'she', \"she's\", 'her', 'hers', 'herself', 'it', \"it's\", 'its', 'itself', 'they', 'them', 'their', 'theirs', 'themselves', 'what', 'which', 'who', 'whom', 'this', 'that', \"that'll\", 'these', 'those', 'am', 'is', 'are', 'was', 'were', 'be', 'been', 'being', 'have', 'has', 'had', 'having', 'do', 'does', 'did', 'doing', 'a', 'an', 'the', 'and', 'but', 'if', 'or', 'because', 'as', 'until', 'while', 'of', 'at', 'by', 'for', 'with', 'about', 'against', 'between', 'into', 'through', 'during', 'before', 'after', 'above', 'below', 'to', 'from', 'up', 'down', 'in', 'out', 'on', 'off', 'over', 'under', 'again', 'further', 'then', 'once', 'here', 'there', 'when', 'where', 'why', 'how', 'all', 'any', 'both', 'each', 'few', 'more', 'most', 'other', 'some', 'such', 'no', 'nor', 'not', 'only', 'own', 'same', 'so', 'than', 'too', 'very', 's', 't', 'can', 'will', 'just', 'don', \"don't\", 'should', \"should've\", 'now', 'd', 'll', 'm', 'o', 're', 've', 'y', 'ain', 'aren', \"aren't\", 'couldn', \"couldn't\", 'didn', \"didn't\", 'doesn', \"doesn't\", 'hadn', \"hadn't\", 'hasn', \"hasn't\", 'haven', \"haven't\", 'isn', \"isn't\", 'ma', 'mightn', \"mightn't\", 'mustn', \"mustn't\", 'needn', \"needn't\", 'shan', \"shan't\", 'shouldn', \"shouldn't\", 'wasn', \"wasn't\", 'weren', \"weren't\", 'won', \"won't\", 'wouldn', \"wouldn't\"]\n"
     ]
    }
   ],
   "source": [
    "import nltk   \n",
    "from nltk.corpus import stopwords   \n",
    "sw_nltk = stopwords.words('english')   \n",
    "print(sw_nltk)"
   ]
  },
  {
   "cell_type": "code",
   "execution_count": 2,
   "metadata": {},
   "outputs": [
    {
     "name": "stdout",
     "output_type": "stream",
     "text": [
      "179\n"
     ]
    }
   ],
   "source": [
    "print(len(sw_nltk))"
   ]
  },
  {
   "cell_type": "code",
   "execution_count": 3,
   "metadata": {},
   "outputs": [
    {
     "name": "stdout",
     "output_type": "stream",
     "text": [
      "first met quiet. remained quiet entire two hour long journey Stony Brook New York.\n",
      "Old length:  129\n",
      "New length:  82\n"
     ]
    }
   ],
   "source": [
    "text = \"When I first met her she was very quiet. She remained quiet during the entire two hour long journey from Stony Brook to New York.\"\n",
    "words = [word for word in text.split() if word.lower() not in sw_nltk]   \n",
    "new_text = \" \".join(words)\n",
    "\n",
    "print(new_text)   \n",
    "print(\"Old length: \", len(text))   \n",
    "print(\"New length: \", len(new_text))"
   ]
  },
  {
   "cell_type": "markdown",
   "metadata": {},
   "source": [
    "# spaCy"
   ]
  },
  {
   "cell_type": "code",
   "execution_count": 5,
   "metadata": {},
   "outputs": [
    {
     "name": "stdout",
     "output_type": "stream",
     "text": [
      "Collecting spacy\n",
      "  Downloading spacy-3.1.4-cp38-cp38-win_amd64.whl (12.0 MB)\n",
      "Requirement already satisfied: tqdm<5.0.0,>=4.38.0 in c:\\users\\91890\\anaconda3\\lib\\site-packages (from spacy) (4.50.2)\n",
      "Requirement already satisfied: jinja2 in c:\\users\\91890\\anaconda3\\lib\\site-packages (from spacy) (2.11.2)\n",
      "Requirement already satisfied: packaging>=20.0 in c:\\users\\91890\\anaconda3\\lib\\site-packages (from spacy) (20.4)\n",
      "Requirement already satisfied: requests<3.0.0,>=2.13.0 in c:\\users\\91890\\anaconda3\\lib\\site-packages (from spacy) (2.24.0)\n",
      "Requirement already satisfied: numpy>=1.15.0 in c:\\users\\91890\\anaconda3\\lib\\site-packages (from spacy) (1.19.2)\n",
      "Requirement already satisfied: setuptools in c:\\users\\91890\\anaconda3\\lib\\site-packages (from spacy) (50.3.1.post20201107)\n",
      "Collecting blis<0.8.0,>=0.4.0\n",
      "  Downloading blis-0.7.5-cp38-cp38-win_amd64.whl (6.6 MB)\n",
      "Collecting catalogue<2.1.0,>=2.0.6\n",
      "  Downloading catalogue-2.0.6-py3-none-any.whl (17 kB)\n",
      "Collecting cymem<2.1.0,>=2.0.2\n",
      "  Downloading cymem-2.0.6-cp38-cp38-win_amd64.whl (36 kB)\n",
      "Collecting murmurhash<1.1.0,>=0.28.0\n",
      "  Downloading murmurhash-1.0.6-cp38-cp38-win_amd64.whl (21 kB)\n",
      "Requirement already satisfied: six in c:\\users\\91890\\anaconda3\\lib\\site-packages (from packaging>=20.0->spacy) (1.15.0)\n",
      "Requirement already satisfied: pyparsing>=2.0.2 in c:\\users\\91890\\anaconda3\\lib\\site-packages (from packaging>=20.0->spacy) (2.4.7)\n",
      "Collecting pathy>=0.3.5\n",
      "  Downloading pathy-0.6.1-py3-none-any.whl (42 kB)\n",
      "Collecting preshed<3.1.0,>=3.0.2\n",
      "  Downloading preshed-3.0.6-cp38-cp38-win_amd64.whl (113 kB)\n",
      "Collecting pydantic!=1.8,!=1.8.1,<1.9.0,>=1.7.4\n",
      "  Downloading pydantic-1.8.2-cp38-cp38-win_amd64.whl (2.0 MB)\n",
      "Requirement already satisfied: typing-extensions>=3.7.4.3 in c:\\users\\91890\\anaconda3\\lib\\site-packages (from pydantic!=1.8,!=1.8.1,<1.9.0,>=1.7.4->spacy) (3.7.4.3)\n",
      "Requirement already satisfied: idna<3,>=2.5 in c:\\users\\91890\\anaconda3\\lib\\site-packages (from requests<3.0.0,>=2.13.0->spacy) (2.10)\n",
      "Requirement already satisfied: chardet<4,>=3.0.2 in c:\\users\\91890\\anaconda3\\lib\\site-packages (from requests<3.0.0,>=2.13.0->spacy) (3.0.4)\n",
      "Requirement already satisfied: urllib3!=1.25.0,!=1.25.1,<1.26,>=1.21.1 in c:\\users\\91890\\anaconda3\\lib\\site-packages (from requests<3.0.0,>=2.13.0->spacy) (1.25.11)\n",
      "Requirement already satisfied: certifi>=2017.4.17 in c:\\users\\91890\\anaconda3\\lib\\site-packages (from requests<3.0.0,>=2.13.0->spacy) (2020.6.20)\n",
      "Collecting smart-open<6.0.0,>=5.0.0\n",
      "  Downloading smart_open-5.2.1-py3-none-any.whl (58 kB)\n",
      "Collecting spacy-legacy<3.1.0,>=3.0.8\n",
      "  Downloading spacy_legacy-3.0.8-py2.py3-none-any.whl (14 kB)\n",
      "Collecting srsly<3.0.0,>=2.4.1\n",
      "  Downloading srsly-2.4.2-cp38-cp38-win_amd64.whl (452 kB)\n",
      "Collecting thinc<8.1.0,>=8.0.12\n",
      "  Downloading thinc-8.0.12-cp38-cp38-win_amd64.whl (1.0 MB)\n",
      "Collecting typer<0.5.0,>=0.3.0\n",
      "  Downloading typer-0.4.0-py3-none-any.whl (27 kB)\n",
      "Requirement already satisfied: click<9.0.0,>=7.1.1 in c:\\users\\91890\\anaconda3\\lib\\site-packages (from typer<0.5.0,>=0.3.0->spacy) (7.1.2)\n",
      "Collecting wasabi<1.1.0,>=0.8.1\n",
      "  Downloading wasabi-0.8.2-py3-none-any.whl (23 kB)\n",
      "Requirement already satisfied: MarkupSafe>=0.23 in c:\\users\\91890\\anaconda3\\lib\\site-packages (from jinja2->spacy) (1.1.1)\n",
      "Installing collected packages: murmurhash, cymem, catalogue, wasabi, typer, srsly, smart-open, pydantic, preshed, blis, thinc, spacy-legacy, pathy, spacy\n",
      "Successfully installed blis-0.7.5 catalogue-2.0.6 cymem-2.0.6 murmurhash-1.0.6 pathy-0.6.1 preshed-3.0.6 pydantic-1.8.2 smart-open-5.2.1 spacy-3.1.4 spacy-legacy-3.0.8 srsly-2.4.2 thinc-8.0.12 typer-0.4.0 wasabi-0.8.2\n"
     ]
    },
    {
     "name": "stderr",
     "output_type": "stream",
     "text": [
      "WARNING: You are using pip version 20.3.3; however, version 21.3.1 is available.\n",
      "You should consider upgrading via the 'C:\\Users\\91890\\anaconda3\\python.exe -m pip install --upgrade pip' command.\n"
     ]
    },
    {
     "name": "stdout",
     "output_type": "stream",
     "text": [
      "Collecting en-core-web-sm==3.1.0\n",
      "  Downloading https://github.com/explosion/spacy-models/releases/download/en_core_web_sm-3.1.0/en_core_web_sm-3.1.0-py3-none-any.whl (13.6 MB)\n",
      "Requirement already satisfied: spacy<3.2.0,>=3.1.0 in c:\\users\\91890\\anaconda3\\lib\\site-packages (from en-core-web-sm==3.1.0) (3.1.4)\n",
      "Requirement already satisfied: requests<3.0.0,>=2.13.0 in c:\\users\\91890\\anaconda3\\lib\\site-packages (from spacy<3.2.0,>=3.1.0->en-core-web-sm==3.1.0) (2.24.0)\n",
      "Requirement already satisfied: wasabi<1.1.0,>=0.8.1 in c:\\users\\91890\\anaconda3\\lib\\site-packages (from spacy<3.2.0,>=3.1.0->en-core-web-sm==3.1.0) (0.8.2)\n",
      "Requirement already satisfied: thinc<8.1.0,>=8.0.12 in c:\\users\\91890\\anaconda3\\lib\\site-packages (from spacy<3.2.0,>=3.1.0->en-core-web-sm==3.1.0) (8.0.12)\n",
      "Requirement already satisfied: typer<0.5.0,>=0.3.0 in c:\\users\\91890\\anaconda3\\lib\\site-packages (from spacy<3.2.0,>=3.1.0->en-core-web-sm==3.1.0) (0.4.0)\n",
      "Requirement already satisfied: numpy>=1.15.0 in c:\\users\\91890\\anaconda3\\lib\\site-packages (from spacy<3.2.0,>=3.1.0->en-core-web-sm==3.1.0) (1.19.2)\n",
      "Requirement already satisfied: cymem<2.1.0,>=2.0.2 in c:\\users\\91890\\anaconda3\\lib\\site-packages (from spacy<3.2.0,>=3.1.0->en-core-web-sm==3.1.0) (2.0.6)\n",
      "Requirement already satisfied: jinja2 in c:\\users\\91890\\anaconda3\\lib\\site-packages (from spacy<3.2.0,>=3.1.0->en-core-web-sm==3.1.0) (2.11.2)\n",
      "Requirement already satisfied: setuptools in c:\\users\\91890\\anaconda3\\lib\\site-packages (from spacy<3.2.0,>=3.1.0->en-core-web-sm==3.1.0) (50.3.1.post20201107)\n",
      "Requirement already satisfied: blis<0.8.0,>=0.4.0 in c:\\users\\91890\\anaconda3\\lib\\site-packages (from spacy<3.2.0,>=3.1.0->en-core-web-sm==3.1.0) (0.7.5)\n",
      "Requirement already satisfied: spacy-legacy<3.1.0,>=3.0.8 in c:\\users\\91890\\anaconda3\\lib\\site-packages (from spacy<3.2.0,>=3.1.0->en-core-web-sm==3.1.0) (3.0.8)\n",
      "Requirement already satisfied: catalogue<2.1.0,>=2.0.6 in c:\\users\\91890\\anaconda3\\lib\\site-packages (from spacy<3.2.0,>=3.1.0->en-core-web-sm==3.1.0) (2.0.6)\n",
      "Requirement already satisfied: packaging>=20.0 in c:\\users\\91890\\anaconda3\\lib\\site-packages (from spacy<3.2.0,>=3.1.0->en-core-web-sm==3.1.0) (20.4)\n",
      "Requirement already satisfied: murmurhash<1.1.0,>=0.28.0 in c:\\users\\91890\\anaconda3\\lib\\site-packages (from spacy<3.2.0,>=3.1.0->en-core-web-sm==3.1.0) (1.0.6)\n",
      "Requirement already satisfied: preshed<3.1.0,>=3.0.2 in c:\\users\\91890\\anaconda3\\lib\\site-packages (from spacy<3.2.0,>=3.1.0->en-core-web-sm==3.1.0) (3.0.6)\n",
      "Requirement already satisfied: pydantic!=1.8,!=1.8.1,<1.9.0,>=1.7.4 in c:\\users\\91890\\anaconda3\\lib\\site-packages (from spacy<3.2.0,>=3.1.0->en-core-web-sm==3.1.0) (1.8.2)\n",
      "Requirement already satisfied: tqdm<5.0.0,>=4.38.0 in c:\\users\\91890\\anaconda3\\lib\\site-packages (from spacy<3.2.0,>=3.1.0->en-core-web-sm==3.1.0) (4.50.2)\n",
      "Requirement already satisfied: srsly<3.0.0,>=2.4.1 in c:\\users\\91890\\anaconda3\\lib\\site-packages (from spacy<3.2.0,>=3.1.0->en-core-web-sm==3.1.0) (2.4.2)\n",
      "Requirement already satisfied: pathy>=0.3.5 in c:\\users\\91890\\anaconda3\\lib\\site-packages (from spacy<3.2.0,>=3.1.0->en-core-web-sm==3.1.0) (0.6.1)\n",
      "Requirement already satisfied: six in c:\\users\\91890\\anaconda3\\lib\\site-packages (from packaging>=20.0->spacy<3.2.0,>=3.1.0->en-core-web-sm==3.1.0) (1.15.0)\n",
      "Requirement already satisfied: pyparsing>=2.0.2 in c:\\users\\91890\\anaconda3\\lib\\site-packages (from packaging>=20.0->spacy<3.2.0,>=3.1.0->en-core-web-sm==3.1.0) (2.4.7)\n",
      "Requirement already satisfied: smart-open<6.0.0,>=5.0.0 in c:\\users\\91890\\anaconda3\\lib\\site-packages (from pathy>=0.3.5->spacy<3.2.0,>=3.1.0->en-core-web-sm==3.1.0) (5.2.1)\n",
      "Requirement already satisfied: typing-extensions>=3.7.4.3 in c:\\users\\91890\\anaconda3\\lib\\site-packages (from pydantic!=1.8,!=1.8.1,<1.9.0,>=1.7.4->spacy<3.2.0,>=3.1.0->en-core-web-sm==3.1.0) (3.7.4.3)\n",
      "Requirement already satisfied: chardet<4,>=3.0.2 in c:\\users\\91890\\anaconda3\\lib\\site-packages (from requests<3.0.0,>=2.13.0->spacy<3.2.0,>=3.1.0->en-core-web-sm==3.1.0) (3.0.4)\n",
      "Requirement already satisfied: urllib3!=1.25.0,!=1.25.1,<1.26,>=1.21.1 in c:\\users\\91890\\anaconda3\\lib\\site-packages (from requests<3.0.0,>=2.13.0->spacy<3.2.0,>=3.1.0->en-core-web-sm==3.1.0) (1.25.11)\n",
      "Requirement already satisfied: certifi>=2017.4.17 in c:\\users\\91890\\anaconda3\\lib\\site-packages (from requests<3.0.0,>=2.13.0->spacy<3.2.0,>=3.1.0->en-core-web-sm==3.1.0) (2020.6.20)\n",
      "Requirement already satisfied: idna<3,>=2.5 in c:\\users\\91890\\anaconda3\\lib\\site-packages (from requests<3.0.0,>=2.13.0->spacy<3.2.0,>=3.1.0->en-core-web-sm==3.1.0) (2.10)\n",
      "Requirement already satisfied: click<9.0.0,>=7.1.1 in c:\\users\\91890\\anaconda3\\lib\\site-packages (from typer<0.5.0,>=0.3.0->spacy<3.2.0,>=3.1.0->en-core-web-sm==3.1.0) (7.1.2)\n",
      "Requirement already satisfied: MarkupSafe>=0.23 in c:\\users\\91890\\anaconda3\\lib\\site-packages (from jinja2->spacy<3.2.0,>=3.1.0->en-core-web-sm==3.1.0) (1.1.1)\n",
      "Installing collected packages: en-core-web-sm\n",
      "Successfully installed en-core-web-sm-3.1.0\n",
      "⚠ As of spaCy v3.0, shortcuts like 'en' are deprecated. Please use the full\n",
      "pipeline package name 'en_core_web_sm' instead.\n",
      "✔ Download and installation successful\n",
      "You can now load the package via spacy.load('en_core_web_sm')\n"
     ]
    },
    {
     "name": "stderr",
     "output_type": "stream",
     "text": [
      "2021-11-02 17:15:17.726258: W tensorflow/stream_executor/platform/default/dso_loader.cc:64] Could not load dynamic library 'cudart64_110.dll'; dlerror: cudart64_110.dll not found\n",
      "2021-11-02 17:15:17.726624: I tensorflow/stream_executor/cuda/cudart_stub.cc:29] Ignore above cudart dlerror if you do not have a GPU set up on your machine.\n",
      "WARNING: You are using pip version 20.3.3; however, version 21.3.1 is available.\n",
      "You should consider upgrading via the 'C:\\Users\\91890\\anaconda3\\python.exe -m pip install --upgrade pip' command.\n"
     ]
    }
   ],
   "source": [
    "import sys\n",
    "!{sys.executable} -m pip install spacy\n",
    "!{sys.executable} -m spacy download en"
   ]
  },
  {
   "cell_type": "code",
   "execution_count": 6,
   "metadata": {},
   "outputs": [
    {
     "name": "stdout",
     "output_type": "stream",
     "text": [
      "{'the', 'back', 'thereby', 'around', 'show', 'their', 'this', 'less', 'all', 'if', 'who', 'can', 'would', 'during', 'have', 'same', 'keep', 'nothing', 'must', 'thereupon', 'while', 'does', 'seems', 'ten', 'be', 'meanwhile', 'from', 'neither', 'over', 'twelve', 'unless', 'both', 'there', 'next', 'to', '‘re', \"'re\", '’ll', 'latter', 'except', 'themselves', 'here', \"n't\", 'latterly', 'seem', 'get', 'still', 'whenever', 'me', 'hundred', 'whereas', 'whereafter', 'name', 'give', 'into', 'each', 'those', 're', '’d', 'behind', 'n’t', 'nevertheless', 'sometimes', 'am', 'its', 'nobody', 'but', 'too', 'when', 'above', '’re', 'an', 'anyone', 'whence', 'his', 'becoming', 'were', 'any', 'yourself', 'anyway', 'been', 'some', 'and', 'as', 'with', 'anything', 'anyhow', 'towards', 'ca', 'your', 'mine', 'often', 'call', 'had', 'in', 'two', 'was', 'among', 'beside', 'together', 'amongst', 'though', 'others', 'own', 'elsewhere', 'may', 'thence', 'yours', 'should', 'you', 'first', 'various', 'us', 'every', 'therefore', 'almost', 'itself', 'he', 'wherever', 'regarding', 'seeming', 'three', 'please', \"'s\", 'namely', 'nine', 'a', 'him', 'empty', 'has', 'her', '’ve', 'below', 'afterwards', 'seemed', 'move', 'third', 'are', 'somewhere', 'already', 'such', 'make', 'up', 'eleven', 'part', 'top', 'hereby', 'until', 'whose', 'between', 'only', 'ours', 'upon', 'none', 'therein', 'serious', 'wherein', 'besides', 'n‘t', 'them', 'fifteen', 'also', 'least', 'indeed', 'side', 'bottom', 'whoever', 'out', 'everywhere', 'nor', 'eight', 'quite', 'ourselves', 'using', '’s', 'which', '‘d', 'ever', 'noone', 'always', 'everyone', 'yet', 'whereby', 'that', 'again', 'doing', 'beforehand', 'became', 'whole', 'do', 'thereafter', \"'ve\", 'through', 'now', 'off', 'what', 'another', 'across', 'might', 'per', 'it', 'otherwise', 'within', 'we', 'much', '‘s', \"'m\", 'before', 'becomes', 'mostly', 'see', 'beyond', 'few', 'something', 'thus', 'is', 'due', 'further', 'cannot', 'go', 'forty', 'being', 'whom', 'i', 'very', 'although', 'how', 'so', 'say', 'amount', 'really', 'made', 'yourselves', 'used', 'front', 'hers', \"'d\", '‘m', 'even', '’m', 'herself', 'sixty', 'our', 'herein', 'four', 'about', 'via', 'not', 'myself', 'where', 'hereupon', 'at', 'fifty', 'than', 'everything', 'other', 'rather', 'hereafter', 'because', 'these', 'toward', 'else', 'take', 'without', 'or', 'most', 'of', 'will', 'whereupon', 'well', 'enough', 'somehow', 'onto', \"'ll\", 'anywhere', 'against', 'along', 'they', 'either', 'six', 'under', 'many', 'then', 'on', 'done', 'formerly', 'whatever', 'become', 'no', 'since', 'thru', 'why', 'whether', 'did', 'alone', 'my', 'she', '‘ll', 'by', 'however', 'down', 'perhaps', 'former', 'throughout', 'twenty', 'himself', 'just', 'several', 'nowhere', 'someone', '‘ve', 'five', 'could', 'more', 'moreover', 'full', 'never', 'one', 'hence', 'after', 'once', 'last', 'sometime', 'whither', 'put', 'for'}\n"
     ]
    }
   ],
   "source": [
    "import spacy   #loading the english language small model of spacy   \n",
    "en = spacy.load('en_core_web_sm')   \n",
    "sw_spacy = en.Defaults.stop_words   \n",
    "print(sw_spacy)"
   ]
  },
  {
   "cell_type": "markdown",
   "metadata": {},
   "source": [
    "# Gensim"
   ]
  },
  {
   "cell_type": "code",
   "execution_count": 9,
   "metadata": {},
   "outputs": [
    {
     "name": "stdout",
     "output_type": "stream",
     "text": [
      "Requirement already satisfied: gensim in c:\\users\\91890\\anaconda3\\lib\\site-packages (4.1.2)\n",
      "Requirement already satisfied: Cython==0.29.23 in c:\\users\\91890\\anaconda3\\lib\\site-packages (from gensim) (0.29.23)\n",
      "Requirement already satisfied: smart-open>=1.8.1 in c:\\users\\91890\\anaconda3\\lib\\site-packages (from gensim) (5.2.1)\n",
      "Requirement already satisfied: numpy>=1.17.0 in c:\\users\\91890\\anaconda3\\lib\\site-packages (from gensim) (1.19.2)\n",
      "Requirement already satisfied: scipy>=0.18.1 in c:\\users\\91890\\anaconda3\\lib\\site-packages (from gensim) (1.5.2)\n",
      "Note: you may need to restart the kernel to use updated packages.\n"
     ]
    },
    {
     "name": "stderr",
     "output_type": "stream",
     "text": [
      "WARNING: You are using pip version 20.3.3; however, version 21.3.1 is available.\n",
      "You should consider upgrading via the 'C:\\Users\\91890\\anaconda3\\python.exe -m pip install --upgrade pip' command.\n"
     ]
    }
   ],
   "source": [
    "pip install gensim"
   ]
  },
  {
   "cell_type": "code",
   "execution_count": 10,
   "metadata": {},
   "outputs": [
    {
     "name": "stdout",
     "output_type": "stream",
     "text": [
      "frozenset({'the', 'thick', 'back', 'eg', 'thereby', 'around', 'show', 'their', 'this', 'less', 'all', 'if', 'who', 'would', 'can', 'during', 'have', 'same', 'keep', 'nothing', 'must', 'con', 'fire', 'thereupon', 'while', 'does', 'seems', 'ten', 'be', 'meanwhile', 'from', 'neither', 'over', 'twelve', 'unless', 'both', 'there', 'next', 'to', 'latter', 'except', 'themselves', 'here', 'latterly', 'seem', 'get', 'still', 'whenever', 'me', 'hundred', 'whereas', 'whereafter', 'name', 'give', 'into', 'each', 'those', 're', 'sincere', 'behind', 'nevertheless', 'sometimes', 'am', 'its', 'nobody', 'but', 'too', 'find', 'when', 'above', 'an', 'anyone', 'whence', 'his', 'becoming', 'were', 'any', 'ie', 'ltd', 'yourself', 'anyway', 'been', 'some', 'and', 'as', 'with', 'anything', 'anyhow', 'towards', 'kg', 'your', 'cry', 'mine', 'often', 'call', 'had', 'in', 'two', 'was', 'among', 'fill', 'beside', 'together', 'amongst', 'though', 'others', 'own', 'elsewhere', 'co', 'may', 'thence', 'yours', 'should', 'you', 'first', 'de', 'various', 'us', 'every', 'therefore', 'almost', 'wherever', 'he', 'itself', 'regarding', 'don', 'seeming', 'three', 'hasnt', 'please', 'namely', 'nine', 'a', 'him', 'has', 'her', 'empty', 'below', 'afterwards', 'seemed', 'move', 'third', 'etc', 'amoungst', 'are', 'somewhere', 'already', 'such', 'up', 'make', 'eleven', 'part', 'top', 'hereby', 'until', 'whose', 'between', 'only', 'ours', 'upon', 'none', 'therein', 'serious', 'wherein', 'besides', 'un', 'them', 'fifteen', 'also', 'inc', 'least', 'indeed', 'side', 'bottom', 'whoever', 'out', 'everywhere', 'nor', 'eight', 'quite', 'ourselves', 'using', 'which', 'ever', 'noone', 'always', 'yet', 'everyone', 'whereby', 'that', 'doing', 'again', 'beforehand', 'became', 'whole', 'do', 'thereafter', 'through', 'bill', 'now', 'off', 'what', 'another', 'across', 'might', 'per', 'it', 'didn', 'otherwise', 'within', 'we', 'much', 'before', 'becomes', 'mostly', 'see', 'beyond', 'few', 'something', 'thus', 'is', 'further', 'due', 'cannot', 'go', 'forty', 'being', 'whom', 'i', 'very', 'cant', 'although', 'how', 'so', 'say', 'amount', 'really', 'couldnt', 'made', 'yourselves', 'used', 'front', 'hers', 'even', 'herself', 'sixty', 'km', 'our', 'herein', 'describe', 'four', 'about', 'via', 'not', 'where', 'myself', 'hereupon', 'at', 'system', 'fifty', 'than', 'everything', 'other', 'rather', 'hereafter', 'interest', 'because', 'these', 'computer', 'toward', 'else', 'take', 'without', 'or', 'most', 'of', 'will', 'whereupon', 'well', 'enough', 'somehow', 'onto', 'doesn', 'anywhere', 'against', 'along', 'they', 'either', 'six', 'under', 'many', 'then', 'on', 'detail', 'done', 'thin', 'formerly', 'whatever', 'become', 'no', 'since', 'thru', 'why', 'whether', 'did', 'alone', 'my', 'she', 'by', 'mill', 'however', 'down', 'perhaps', 'former', 'throughout', 'twenty', 'himself', 'just', 'several', 'nowhere', 'someone', 'five', 'could', 'more', 'moreover', 'full', 'never', 'one', 'hence', 'after', 'once', 'sometime', 'last', 'whither', 'put', 'for', 'found'})\n"
     ]
    }
   ],
   "source": [
    "import gensim   \n",
    "from gensim.parsing.preprocessing import remove_stopwords, STOPWORDS   \n",
    "print(STOPWORDS)"
   ]
  },
  {
   "cell_type": "markdown",
   "metadata": {},
   "source": [
    "# Scikit-Learn"
   ]
  },
  {
   "cell_type": "code",
   "execution_count": 11,
   "metadata": {},
   "outputs": [
    {
     "name": "stdout",
     "output_type": "stream",
     "text": [
      "frozenset({'the', 'thick', 'back', 'eg', 'thereby', 'around', 'show', 'their', 'this', 'less', 'all', 'if', 'who', 'can', 'would', 'during', 'have', 'same', 'keep', 'nothing', 'must', 'con', 'fire', 'thereupon', 'while', 'seems', 'ten', 'be', 'meanwhile', 'from', 'neither', 'over', 'twelve', 'both', 'there', 'next', 'to', 'latter', 'except', 'themselves', 'here', 'latterly', 'seem', 'get', 'still', 'whenever', 'me', 'hundred', 'whereas', 'whereafter', 'name', 'give', 'into', 'each', 'those', 're', 'sincere', 'behind', 'nevertheless', 'sometimes', 'am', 'its', 'nobody', 'but', 'too', 'find', 'when', 'above', 'an', 'anyone', 'whence', 'his', 'becoming', 'were', 'any', 'ie', 'ltd', 'yourself', 'anyway', 'been', 'some', 'and', 'as', 'with', 'anything', 'anyhow', 'towards', 'your', 'cry', 'mine', 'often', 'call', 'had', 'in', 'two', 'was', 'among', 'fill', 'beside', 'together', 'amongst', 'though', 'others', 'own', 'elsewhere', 'co', 'may', 'thence', 'yours', 'should', 'you', 'first', 'de', 'us', 'every', 'therefore', 'almost', 'itself', 'he', 'wherever', 'seeming', 'three', 'hasnt', 'please', 'namely', 'nine', 'a', 'him', 'empty', 'has', 'her', 'below', 'afterwards', 'seemed', 'move', 'third', 'etc', 'amoungst', 'are', 'somewhere', 'already', 'such', 'up', 'eleven', 'part', 'top', 'hereby', 'until', 'whose', 'between', 'only', 'ours', 'upon', 'none', 'therein', 'serious', 'wherein', 'besides', 'un', 'them', 'fifteen', 'also', 'inc', 'least', 'indeed', 'side', 'bottom', 'whoever', 'out', 'everywhere', 'nor', 'eight', 'ourselves', 'which', 'ever', 'noone', 'always', 'everyone', 'yet', 'whereby', 'that', 'again', 'beforehand', 'became', 'whole', 'do', 'thereafter', 'through', 'bill', 'now', 'off', 'what', 'another', 'across', 'might', 'per', 'it', 'otherwise', 'within', 'we', 'much', 'before', 'becomes', 'mostly', 'see', 'beyond', 'few', 'something', 'thus', 'is', 'due', 'further', 'cannot', 'go', 'forty', 'being', 'whom', 'i', 'very', 'cant', 'although', 'how', 'so', 'amount', 'couldnt', 'made', 'yourselves', 'front', 'hers', 'even', 'herself', 'sixty', 'our', 'herein', 'describe', 'four', 'about', 'via', 'not', 'myself', 'where', 'hereupon', 'at', 'system', 'fifty', 'than', 'everything', 'other', 'rather', 'hereafter', 'interest', 'because', 'these', 'toward', 'else', 'take', 'without', 'or', 'most', 'of', 'will', 'whereupon', 'well', 'enough', 'somehow', 'onto', 'anywhere', 'against', 'along', 'they', 'either', 'six', 'under', 'many', 'then', 'on', 'detail', 'done', 'thin', 'formerly', 'whatever', 'become', 'no', 'since', 'thru', 'why', 'whether', 'alone', 'my', 'she', 'by', 'mill', 'however', 'down', 'perhaps', 'former', 'throughout', 'twenty', 'himself', 'several', 'nowhere', 'someone', 'five', 'could', 'more', 'moreover', 'full', 'never', 'one', 'hence', 'after', 'once', 'last', 'sometime', 'whither', 'put', 'for', 'found'})\n"
     ]
    }
   ],
   "source": [
    "from sklearn.feature_extraction.text import ENGLISH_STOP_WORDS   \n",
    "print(ENGLISH_STOP_WORDS)"
   ]
  },
  {
   "cell_type": "markdown",
   "metadata": {},
   "source": [
    "# REMOVING STOP WORDS FROM TEXT"
   ]
  },
  {
   "cell_type": "code",
   "execution_count": 12,
   "metadata": {},
   "outputs": [
    {
     "name": "stdout",
     "output_type": "stream",
     "text": [
      "met quiet. remained quiet entire hour long journey Stony Brook New York.\n",
      "Old length:  129\n",
      "New length:  72\n"
     ]
    }
   ],
   "source": [
    "#Removes stop words\n",
    "words = [word for word in text.split() if word.lower() not in ENGLISH_STOP_WORDS]   \n",
    "new_text = \" \".join(words)   \n",
    "\n",
    "print(new_text)   \n",
    "print(\"Old length: \", len(text))   \n",
    "print(\"New length: \", len(new_text))"
   ]
  },
  {
   "cell_type": "markdown",
   "metadata": {},
   "source": [
    "# ADDING CUSTOM STOP WORDS TO LIST"
   ]
  },
  {
   "cell_type": "code",
   "execution_count": 13,
   "metadata": {},
   "outputs": [
    {
     "name": "stdout",
     "output_type": "stream",
     "text": [
      "183\n"
     ]
    }
   ],
   "source": [
    "sw_nltk.extend(['first', 'second', 'third', 'me'])   \n",
    "print(len(sw_nltk))"
   ]
  },
  {
   "cell_type": "markdown",
   "metadata": {},
   "source": [
    "# remove stop words "
   ]
  },
  {
   "cell_type": "code",
   "execution_count": 14,
   "metadata": {},
   "outputs": [],
   "source": [
    "# FROM PREMADE LIST\n",
    "sw_nltk.remove('not')"
   ]
  },
  {
   "cell_type": "code",
   "execution_count": null,
   "metadata": {},
   "outputs": [],
   "source": []
  }
 ],
 "metadata": {
  "kernelspec": {
   "display_name": "Python 3",
   "language": "python",
   "name": "python3"
  },
  "language_info": {
   "codemirror_mode": {
    "name": "ipython",
    "version": 3
   },
   "file_extension": ".py",
   "mimetype": "text/x-python",
   "name": "python",
   "nbconvert_exporter": "python",
   "pygments_lexer": "ipython3",
   "version": "3.8.5"
  }
 },
 "nbformat": 4,
 "nbformat_minor": 4
}
